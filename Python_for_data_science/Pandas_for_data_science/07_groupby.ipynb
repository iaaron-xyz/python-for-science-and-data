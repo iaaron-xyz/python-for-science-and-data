{
 "cells": [
  {
   "cell_type": "code",
   "execution_count": 1,
   "metadata": {},
   "outputs": [],
   "source": [
    "import pandas as pd"
   ]
  },
  {
   "cell_type": "code",
   "execution_count": 6,
   "metadata": {},
   "outputs": [],
   "source": [
    "# Create the dataframe example\n",
    "\n",
    "# Data\n",
    "data = {\n",
    "    'name': ['Ana', 'Bob', 'Mary', 'Ana', 'Bob', 'Mary'],\n",
    "    'city': ['Madrid', 'Barcelona', 'Sevilla', 'Madrid', 'Barcelona', 'Sevilla'],\n",
    "    'sales': [200, 150, 100, 250, 300, 120],\n",
    "    'year': [2023, 2023, 2023, 2024, 2024, 2024]\n",
    "}\n",
    "\n",
    "# dataframe\n",
    "df = pd.DataFrame(data)"
   ]
  },
  {
   "cell_type": "markdown",
   "metadata": {},
   "source": [
    "# GroupBy"
   ]
  },
  {
   "cell_type": "markdown",
   "metadata": {},
   "source": [
    "In **Pandas**, the `groupby()` function is used to group data columns or `Series` as known in **Pandas** of a `DataFrame`. This function is very useful because can be used along with aggregation functions like *sum*, *average*, *counting* among others. "
   ]
  },
  {
   "cell_type": "markdown",
   "metadata": {},
   "source": [
    "## Example 1: Use GroupBy with an aggregation function"
   ]
  },
  {
   "cell_type": "markdown",
   "metadata": {},
   "source": [
    "This is one of the most common applications of the `groupby` method. Group the data in a column given a condition or common feature and apply an aggregation function like `mean()`, `count()`, or `sum()`."
   ]
  },
  {
   "cell_type": "markdown",
   "metadata": {},
   "source": [
    "Group the column name and add the sales."
   ]
  },
  {
   "cell_type": "code",
   "execution_count": 8,
   "metadata": {},
   "outputs": [
    {
     "data": {
      "text/plain": [
       "name\n",
       "Ana     450\n",
       "Bob     450\n",
       "Mary    220\n",
       "Name: sales, dtype: int64"
      ]
     },
     "execution_count": 8,
     "metadata": {},
     "output_type": "execute_result"
    }
   ],
   "source": [
    "gr_name_sum = df.groupby('name')['sales'].sum()\n",
    "gr_name_sum"
   ]
  },
  {
   "cell_type": "markdown",
   "metadata": {},
   "source": [
    "## Example 2: Group multiple columns"
   ]
  },
  {
   "cell_type": "markdown",
   "metadata": {},
   "source": [
    "You can group by multiple columns at once to create more complex analysis.\n",
    "\n",
    "In the next example, group by name and city and calculate the average sales."
   ]
  },
  {
   "cell_type": "code",
   "execution_count": 9,
   "metadata": {},
   "outputs": [
    {
     "data": {
      "text/plain": [
       "name  city     \n",
       "Ana   Madrid       225.0\n",
       "Bob   Barcelona    225.0\n",
       "Mary  Sevilla      110.0\n",
       "Name: sales, dtype: float64"
      ]
     },
     "execution_count": 9,
     "metadata": {},
     "output_type": "execute_result"
    }
   ],
   "source": [
    "gr_name_city_mean = df.groupby(['name', 'city'])['sales'].mean()\n",
    "gr_name_city_mean"
   ]
  },
  {
   "cell_type": "markdown",
   "metadata": {},
   "source": [
    "## Example 3: Apply multiple aggregation functions"
   ]
  },
  {
   "cell_type": "markdown",
   "metadata": {},
   "source": [
    "You can apply multiple aggregation functions using the method `agg()`.\n",
    "\n",
    "In the next example, group by city and apply multiple aggregation functions."
   ]
  },
  {
   "cell_type": "code",
   "execution_count": 11,
   "metadata": {},
   "outputs": [
    {
     "data": {
      "text/html": [
       "<div>\n",
       "<style scoped>\n",
       "    .dataframe tbody tr th:only-of-type {\n",
       "        vertical-align: middle;\n",
       "    }\n",
       "\n",
       "    .dataframe tbody tr th {\n",
       "        vertical-align: top;\n",
       "    }\n",
       "\n",
       "    .dataframe thead th {\n",
       "        text-align: right;\n",
       "    }\n",
       "</style>\n",
       "<table border=\"1\" class=\"dataframe\">\n",
       "  <thead>\n",
       "    <tr style=\"text-align: right;\">\n",
       "      <th></th>\n",
       "      <th>sum</th>\n",
       "      <th>mean</th>\n",
       "      <th>min</th>\n",
       "      <th>max</th>\n",
       "    </tr>\n",
       "    <tr>\n",
       "      <th>city</th>\n",
       "      <th></th>\n",
       "      <th></th>\n",
       "      <th></th>\n",
       "      <th></th>\n",
       "    </tr>\n",
       "  </thead>\n",
       "  <tbody>\n",
       "    <tr>\n",
       "      <th>Barcelona</th>\n",
       "      <td>450</td>\n",
       "      <td>225.0</td>\n",
       "      <td>150</td>\n",
       "      <td>300</td>\n",
       "    </tr>\n",
       "    <tr>\n",
       "      <th>Madrid</th>\n",
       "      <td>450</td>\n",
       "      <td>225.0</td>\n",
       "      <td>200</td>\n",
       "      <td>250</td>\n",
       "    </tr>\n",
       "    <tr>\n",
       "      <th>Sevilla</th>\n",
       "      <td>220</td>\n",
       "      <td>110.0</td>\n",
       "      <td>100</td>\n",
       "      <td>120</td>\n",
       "    </tr>\n",
       "  </tbody>\n",
       "</table>\n",
       "</div>"
      ],
      "text/plain": [
       "           sum   mean  min  max\n",
       "city                           \n",
       "Barcelona  450  225.0  150  300\n",
       "Madrid     450  225.0  200  250\n",
       "Sevilla    220  110.0  100  120"
      ]
     },
     "execution_count": 11,
     "metadata": {},
     "output_type": "execute_result"
    }
   ],
   "source": [
    "gr_city_agg1 = df.groupby('city')['sales'].agg(['sum', 'mean', 'min', 'max'])\n",
    "gr_city_agg1"
   ]
  },
  {
   "cell_type": "markdown",
   "metadata": {},
   "source": [
    "## Example 4: Filter results after grouping"
   ]
  },
  {
   "cell_type": "markdown",
   "metadata": {},
   "source": [
    "You can filter the groups after the first grouping using the method `filter()`. This method allows you to apply a condition and and filter specific elements.\n",
    "\n",
    "In the next example, filter the cities whose sales sum exceeds 300, only save the ones that don't."
   ]
  },
  {
   "cell_type": "code",
   "execution_count": 13,
   "metadata": {},
   "outputs": [
    {
     "data": {
      "text/html": [
       "<div>\n",
       "<style scoped>\n",
       "    .dataframe tbody tr th:only-of-type {\n",
       "        vertical-align: middle;\n",
       "    }\n",
       "\n",
       "    .dataframe tbody tr th {\n",
       "        vertical-align: top;\n",
       "    }\n",
       "\n",
       "    .dataframe thead th {\n",
       "        text-align: right;\n",
       "    }\n",
       "</style>\n",
       "<table border=\"1\" class=\"dataframe\">\n",
       "  <thead>\n",
       "    <tr style=\"text-align: right;\">\n",
       "      <th></th>\n",
       "      <th>name</th>\n",
       "      <th>city</th>\n",
       "      <th>sales</th>\n",
       "      <th>year</th>\n",
       "    </tr>\n",
       "  </thead>\n",
       "  <tbody>\n",
       "    <tr>\n",
       "      <th>2</th>\n",
       "      <td>Mary</td>\n",
       "      <td>Sevilla</td>\n",
       "      <td>100</td>\n",
       "      <td>2023</td>\n",
       "    </tr>\n",
       "    <tr>\n",
       "      <th>5</th>\n",
       "      <td>Mary</td>\n",
       "      <td>Sevilla</td>\n",
       "      <td>120</td>\n",
       "      <td>2024</td>\n",
       "    </tr>\n",
       "  </tbody>\n",
       "</table>\n",
       "</div>"
      ],
      "text/plain": [
       "   name     city  sales  year\n",
       "2  Mary  Sevilla    100  2023\n",
       "5  Mary  Sevilla    120  2024"
      ]
     },
     "execution_count": 13,
     "metadata": {},
     "output_type": "execute_result"
    }
   ],
   "source": [
    "gr_filter_300 = df.groupby('city').filter(lambda x: x['sales'].sum() < 300)\n",
    "gr_filter_300"
   ]
  },
  {
   "cell_type": "markdown",
   "metadata": {},
   "source": [
    "## Example 5: Grouping and counting"
   ]
  },
  {
   "cell_type": "markdown",
   "metadata": {},
   "source": [
    "If you want to count the number of times an element repeats itself in every group, you can use the methods `count()` or `size()`.\n",
    "\n",
    "In this example, count the number of sales per city:"
   ]
  },
  {
   "cell_type": "code",
   "execution_count": 14,
   "metadata": {},
   "outputs": [
    {
     "data": {
      "text/plain": [
       "city\n",
       "Barcelona    2\n",
       "Madrid       2\n",
       "Sevilla      2\n",
       "dtype: int64"
      ]
     },
     "execution_count": 14,
     "metadata": {},
     "output_type": "execute_result"
    }
   ],
   "source": [
    "gr_counting_sales = df.groupby('city').size()\n",
    "gr_counting_sales"
   ]
  },
  {
   "cell_type": "markdown",
   "metadata": {},
   "source": [
    "## Example 6: Iterate over groups"
   ]
  },
  {
   "cell_type": "markdown",
   "metadata": {},
   "source": [
    "You can iterate over the groups created by `groupby()` using a `for-loop`. Every iteration returns the name of the group and the sub-DataFrame.\n",
    "\n",
    "In this example, iterate over the group created for **names**:"
   ]
  },
  {
   "cell_type": "code",
   "execution_count": 19,
   "metadata": {},
   "outputs": [
    {
     "name": "stdout",
     "output_type": "stream",
     "text": [
      "Group Name: Ana\n",
      "-\n",
      "  name    city  sales  year\n",
      "0  Ana  Madrid    200  2023\n",
      "3  Ana  Madrid    250  2024\n",
      "********************\n",
      "Group Name: Bob\n",
      "-\n",
      "  name       city  sales  year\n",
      "1  Bob  Barcelona    150  2023\n",
      "4  Bob  Barcelona    300  2024\n",
      "********************\n",
      "Group Name: Mary\n",
      "-\n",
      "   name     city  sales  year\n",
      "2  Mary  Sevilla    100  2023\n",
      "5  Mary  Sevilla    120  2024\n",
      "********************\n"
     ]
    }
   ],
   "source": [
    "gr_iterate = df.groupby('name')\n",
    "\n",
    "for name, group in gr_iterate:\n",
    "    print('Group Name:', name)\n",
    "    print('-')\n",
    "    print(group)\n",
    "    print(20*'*')"
   ]
  },
  {
   "cell_type": "markdown",
   "metadata": {},
   "source": [
    "## Example 7: Group and fill lacking values"
   ]
  },
  {
   "cell_type": "markdown",
   "metadata": {},
   "source": [
    "If you have missing values, you can use `groupby()` together with `transform()` and apply functions over the group(s) and fill those values.\n",
    "\n",
    "In the next example, fill the missing values with the group mean:"
   ]
  },
  {
   "cell_type": "code",
   "execution_count": 20,
   "metadata": {},
   "outputs": [
    {
     "data": {
      "text/plain": [
       "0    200\n",
       "1    150\n",
       "2    100\n",
       "3    250\n",
       "4    300\n",
       "5    120\n",
       "Name: sales, dtype: int64"
      ]
     },
     "execution_count": 20,
     "metadata": {},
     "output_type": "execute_result"
    }
   ],
   "source": [
    "df['sales'] = df.groupby('city')['sales'].transform(lambda x: x.fillna(x.mean()))\n",
    "df['sales']"
   ]
  },
  {
   "cell_type": "markdown",
   "metadata": {},
   "source": [
    "## Example 8: Grouping many columns (Series) and apply multiple operations"
   ]
  },
  {
   "cell_type": "markdown",
   "metadata": {},
   "source": [
    "If you need to work with different columns, you can use `agg()` method, like in the *example 2*, to specify the aggregation functions to apply on each column.\n",
    "\n",
    "In this example, group by **year** and apply different functions to the columns `sales` and `year`:"
   ]
  },
  {
   "cell_type": "code",
   "execution_count": 23,
   "metadata": {},
   "outputs": [
    {
     "data": {
      "text/html": [
       "<div>\n",
       "<style scoped>\n",
       "    .dataframe tbody tr th:only-of-type {\n",
       "        vertical-align: middle;\n",
       "    }\n",
       "\n",
       "    .dataframe tbody tr th {\n",
       "        vertical-align: top;\n",
       "    }\n",
       "\n",
       "    .dataframe thead tr th {\n",
       "        text-align: left;\n",
       "    }\n",
       "\n",
       "    .dataframe thead tr:last-of-type th {\n",
       "        text-align: right;\n",
       "    }\n",
       "</style>\n",
       "<table border=\"1\" class=\"dataframe\">\n",
       "  <thead>\n",
       "    <tr>\n",
       "      <th></th>\n",
       "      <th colspan=\"2\" halign=\"left\">sales</th>\n",
       "      <th>year</th>\n",
       "    </tr>\n",
       "    <tr>\n",
       "      <th></th>\n",
       "      <th>sum</th>\n",
       "      <th>mean</th>\n",
       "      <th>count</th>\n",
       "    </tr>\n",
       "    <tr>\n",
       "      <th>year</th>\n",
       "      <th></th>\n",
       "      <th></th>\n",
       "      <th></th>\n",
       "    </tr>\n",
       "  </thead>\n",
       "  <tbody>\n",
       "    <tr>\n",
       "      <th>2023</th>\n",
       "      <td>450</td>\n",
       "      <td>150.000000</td>\n",
       "      <td>3</td>\n",
       "    </tr>\n",
       "    <tr>\n",
       "      <th>2024</th>\n",
       "      <td>670</td>\n",
       "      <td>223.333333</td>\n",
       "      <td>3</td>\n",
       "    </tr>\n",
       "  </tbody>\n",
       "</table>\n",
       "</div>"
      ],
      "text/plain": [
       "     sales              year\n",
       "       sum        mean count\n",
       "year                        \n",
       "2023   450  150.000000     3\n",
       "2024   670  223.333333     3"
      ]
     },
     "execution_count": 23,
     "metadata": {},
     "output_type": "execute_result"
    }
   ],
   "source": [
    "gr_multiple_aggr = df.groupby('year').agg({\n",
    "    'sales': ['sum', 'mean'],\n",
    "    'year': 'count',\n",
    "})\n",
    "\n",
    "gr_multiple_aggr"
   ]
  },
  {
   "cell_type": "markdown",
   "metadata": {},
   "source": [
    "## Example 9: Reset the index after `groupby()`"
   ]
  },
  {
   "cell_type": "markdown",
   "metadata": {},
   "source": [
    "Sometimes, after applying grouping with `groupby()`, the index in the result can be the non-expected, you can reset the index with `reset_index()`.\n",
    "\n",
    "In this example, group by **name** and reset the index:"
   ]
  },
  {
   "cell_type": "code",
   "execution_count": 24,
   "metadata": {},
   "outputs": [
    {
     "data": {
      "text/html": [
       "<div>\n",
       "<style scoped>\n",
       "    .dataframe tbody tr th:only-of-type {\n",
       "        vertical-align: middle;\n",
       "    }\n",
       "\n",
       "    .dataframe tbody tr th {\n",
       "        vertical-align: top;\n",
       "    }\n",
       "\n",
       "    .dataframe thead th {\n",
       "        text-align: right;\n",
       "    }\n",
       "</style>\n",
       "<table border=\"1\" class=\"dataframe\">\n",
       "  <thead>\n",
       "    <tr style=\"text-align: right;\">\n",
       "      <th></th>\n",
       "      <th>name</th>\n",
       "      <th>sales</th>\n",
       "    </tr>\n",
       "  </thead>\n",
       "  <tbody>\n",
       "    <tr>\n",
       "      <th>0</th>\n",
       "      <td>Ana</td>\n",
       "      <td>450</td>\n",
       "    </tr>\n",
       "    <tr>\n",
       "      <th>1</th>\n",
       "      <td>Bob</td>\n",
       "      <td>450</td>\n",
       "    </tr>\n",
       "    <tr>\n",
       "      <th>2</th>\n",
       "      <td>Mary</td>\n",
       "      <td>220</td>\n",
       "    </tr>\n",
       "  </tbody>\n",
       "</table>\n",
       "</div>"
      ],
      "text/plain": [
       "   name  sales\n",
       "0   Ana    450\n",
       "1   Bob    450\n",
       "2  Mary    220"
      ]
     },
     "execution_count": 24,
     "metadata": {},
     "output_type": "execute_result"
    }
   ],
   "source": [
    "gr_name_sum_reset = df.groupby('name')['sales'].sum().reset_index()\n",
    "gr_name_sum_reset"
   ]
  },
  {
   "cell_type": "code",
   "execution_count": 26,
   "metadata": {},
   "outputs": [
    {
     "data": {
      "text/plain": [
       "name\n",
       "Ana     450\n",
       "Bob     450\n",
       "Mary    220\n",
       "Name: sales, dtype: int64"
      ]
     },
     "execution_count": 26,
     "metadata": {},
     "output_type": "execute_result"
    }
   ],
   "source": [
    "# for comparison purposes, from the example 1\n",
    "gr_name_sum"
   ]
  },
  {
   "cell_type": "markdown",
   "metadata": {},
   "source": [
    "## Example 10: Apply a custom function with `apply()`"
   ]
  },
  {
   "cell_type": "markdown",
   "metadata": {},
   "source": [
    "The method `apply()` allows us to apply specific functions to our groups.\n",
    "\n",
    "In the next example, we will calculate the final price adding the taxes to the sales prices using the function `apply()`:"
   ]
  },
  {
   "cell_type": "code",
   "execution_count": 30,
   "metadata": {},
   "outputs": [
    {
     "name": "stderr",
     "output_type": "stream",
     "text": [
      "/tmp/ipykernel_13364/483965944.py:4: DeprecationWarning: DataFrameGroupBy.apply operated on the grouping columns. This behavior is deprecated, and in a future version of pandas the grouping columns will be excluded from the operation. Either pass `include_groups=False` to exclude the groupings or explicitly select the grouping columns after groupby to silence this warning.\n",
      "  sales_plus_taxes = df.groupby('sales').apply(add_taxes)\n"
     ]
    },
    {
     "data": {
      "text/plain": [
       "sales   \n",
       "100    2    110.0\n",
       "120    5    132.0\n",
       "150    1    165.0\n",
       "200    0    220.0\n",
       "250    3    275.0\n",
       "300    4    330.0\n",
       "Name: sales, dtype: float64"
      ]
     },
     "execution_count": 30,
     "metadata": {},
     "output_type": "execute_result"
    }
   ],
   "source": [
    "def add_taxes(group):\n",
    "    return (group['sales'] + group['sales']*0.1)\n",
    "\n",
    "sales_plus_taxes = df.groupby('sales').apply(add_taxes)\n",
    "sales_plus_taxes"
   ]
  }
 ],
 "metadata": {
  "kernelspec": {
   "display_name": "venv",
   "language": "python",
   "name": "python3"
  },
  "language_info": {
   "codemirror_mode": {
    "name": "ipython",
    "version": 3
   },
   "file_extension": ".py",
   "mimetype": "text/x-python",
   "name": "python",
   "nbconvert_exporter": "python",
   "pygments_lexer": "ipython3",
   "version": "3.10.12"
  }
 },
 "nbformat": 4,
 "nbformat_minor": 2
}
