{
 "cells": [
  {
   "cell_type": "markdown",
   "metadata": {},
   "source": [
    "# How to import an online Dataset"
   ]
  },
  {
   "cell_type": "markdown",
   "metadata": {},
   "source": [
    "First, you need to get the url where the dataset can be downloaded, then you can download it with `curl`.\n",
    "\n",
    "```shell\n",
    "curl -L -o <filename> <url>\n",
    "```\n",
    "\n",
    "> Remember to use the `!` before the commands, this let the notebook we are executing a shell command."
   ]
  },
  {
   "cell_type": "markdown",
   "metadata": {},
   "source": [
    "## Download the datasets"
   ]
  },
  {
   "cell_type": "code",
   "execution_count": 13,
   "metadata": {},
   "outputs": [
    {
     "name": "stderr",
     "output_type": "stream",
     "text": [
      "  % Total    % Received % Xferd  Average Speed   Time    Time     Time  Current\n",
      "                                 Dload  Upload   Total   Spent    Left  Speed\n",
      "\n",
      "  0     0    0     0    0     0      0      0 --:--:-- --:--:-- --:--:--     0\n",
      "  0     0    0     0    0     0      0      0 --:--:-- --:--:-- --:--:--     0\n",
      "  0     0    0     0    0     0      0      0 --:--:-- --:--:-- --:--:--     0\n",
      "\n",
      " 77 7296k   77 5664k    0     0  4881k      0  0:00:01  0:00:01 --:--:-- 4881k\n",
      "100 7296k  100 7296k    0     0  5595k      0  0:00:01  0:00:01 --:--:-- 11.1M\n"
     ]
    }
   ],
   "source": [
    "!curl -L -o datasets/archive.zip https://www.kaggle.com/api/v1/datasets/download/tunguz/online-retail"
   ]
  },
  {
   "cell_type": "markdown",
   "metadata": {},
   "source": [
    "## Read the dataset"
   ]
  },
  {
   "cell_type": "markdown",
   "metadata": {},
   "source": [
    "After the dataset gets unzipped (if necessary), the next step is to get its correct path and read the data, then we are ready! Yo can read files of diffrent types with pandas:\n",
    "\n",
    "```python\n",
    "import pandas as pd\n",
    "\n",
    "#csv files\n",
    "data_csv = pd.read_csv(path)\n",
    "\n",
    "# excel files\n",
    "data_excel = pd.read_excel(path)\n",
    "\n",
    "# json files\n",
    "data_json = pd.read_json(path)\n",
    "```"
   ]
  },
  {
   "cell_type": "markdown",
   "metadata": {},
   "source": [
    "> WARNING!\n",
    ">\n",
    "> \n",
    "> When everything seems correct but you get a `UnicodeDecodeError` error, it means pandas is trying to read the CSV file but encounters characters that it cannot decode using the default encoding `utf-8`.\n",
    ">\n",
    ">To fix it, you can manually specify the encoding when loading the file. In many cases, CSV files that generate this error are encoded in `ISO-8859-1` or `latin1` or `windows-1252`.\n",
    ">\n",
    "> .\n",
    "\n",
    "Example error: `UnicodeDecodeError: 'utf-8' codec can't decode byte 0xa3 in position 227179: invalid start byte`\n"
   ]
  },
  {
   "cell_type": "code",
   "execution_count": 33,
   "metadata": {},
   "outputs": [
    {
     "name": "stdout",
     "output_type": "stream",
     "text": [
      "       InvoiceNo StockCode                          Description  Quantity  \\\n",
      "0         536365    85123A   WHITE HANGING HEART T-LIGHT HOLDER         6   \n",
      "1         536365     71053                  WHITE METAL LANTERN         6   \n",
      "2         536365    84406B       CREAM CUPID HEARTS COAT HANGER         8   \n",
      "3         536365    84029G  KNITTED UNION FLAG HOT WATER BOTTLE         6   \n",
      "4         536365    84029E       RED WOOLLY HOTTIE WHITE HEART.         6   \n",
      "...          ...       ...                                  ...       ...   \n",
      "541904    581587     22613          PACK OF 20 SPACEBOY NAPKINS        12   \n",
      "541905    581587     22899         CHILDREN'S APRON DOLLY GIRL          6   \n",
      "541906    581587     23254        CHILDRENS CUTLERY DOLLY GIRL          4   \n",
      "541907    581587     23255      CHILDRENS CUTLERY CIRCUS PARADE         4   \n",
      "541908    581587     22138        BAKING SET 9 PIECE RETROSPOT          3   \n",
      "\n",
      "          InvoiceDate  UnitPrice  CustomerID         Country  \n",
      "0        12/1/10 8:26       2.55     17850.0  United Kingdom  \n",
      "1        12/1/10 8:26       3.39     17850.0  United Kingdom  \n",
      "2        12/1/10 8:26       2.75     17850.0  United Kingdom  \n",
      "3        12/1/10 8:26       3.39     17850.0  United Kingdom  \n",
      "4        12/1/10 8:26       3.39     17850.0  United Kingdom  \n",
      "...               ...        ...         ...             ...  \n",
      "541904  12/9/11 12:50       0.85     12680.0          France  \n",
      "541905  12/9/11 12:50       2.10     12680.0          France  \n",
      "541906  12/9/11 12:50       4.15     12680.0          France  \n",
      "541907  12/9/11 12:50       4.15     12680.0          France  \n",
      "541908  12/9/11 12:50       4.95     12680.0          France  \n",
      "\n",
      "[541909 rows x 8 columns]\n"
     ]
    }
   ],
   "source": [
    "import os\n",
    "import pandas as pd\n",
    "\n",
    "# Get the absolute path to the current notebook\n",
    "os_path = os.getcwd()\n",
    "# Add the extra path to the dataset file\n",
    "dataset_path = os_path+'\\datasets\\Online_Retail.csv'\n",
    "retail_data = pd.read_csv(dataset_path, encoding='ISO-8859-1')\n",
    "print(retail_data)"
   ]
  },
  {
   "cell_type": "markdown",
   "metadata": {},
   "source": [
    "# How to import a dataset from Google Drive"
   ]
  },
  {
   "cell_type": "markdown",
   "metadata": {},
   "source": [
    "```python\n",
    "from google.colab import drive\n",
    "\n",
    "drive.mount('/content/drive')\n",
    "path = '/content/drive/MyDrive/online_retail.csv'\n",
    "\n",
    "data = pd.read_csv(path)\n",
    "```"
   ]
  },
  {
   "cell_type": "markdown",
   "metadata": {},
   "source": []
  }
 ],
 "metadata": {
  "kernelspec": {
   "display_name": ".venv",
   "language": "python",
   "name": "python3"
  },
  "language_info": {
   "codemirror_mode": {
    "name": "ipython",
    "version": 3
   },
   "file_extension": ".py",
   "mimetype": "text/x-python",
   "name": "python",
   "nbconvert_exporter": "python",
   "pygments_lexer": "ipython3",
   "version": "3.10.8"
  }
 },
 "nbformat": 4,
 "nbformat_minor": 2
}
