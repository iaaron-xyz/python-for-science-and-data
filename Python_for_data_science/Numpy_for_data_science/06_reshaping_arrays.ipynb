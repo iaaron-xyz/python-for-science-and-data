{
 "cells": [
  {
   "cell_type": "code",
   "execution_count": 3,
   "metadata": {},
   "outputs": [],
   "source": [
    "import numpy as np"
   ]
  },
  {
   "cell_type": "markdown",
   "metadata": {},
   "source": [
    "# Array transformations: Reshape and Manipulation"
   ]
  },
  {
   "cell_type": "markdown",
   "metadata": {},
   "source": [
    "## Reshape"
   ]
  },
  {
   "cell_type": "markdown",
   "metadata": {},
   "source": [
    "El método `.reshape()` de NumPy permite cambiar la forma de un array sin alterar sus datos. Por ejemplo, si tienes un array `B` de forma `(2, 3)`, puedes cambiarlo a una forma `(3, 2)` utilizando `B.reshape(3, 2)`."
   ]
  },
  {
   "cell_type": "code",
   "execution_count": 7,
   "metadata": {},
   "outputs": [
    {
     "name": "stdout",
     "output_type": "stream",
     "text": [
      "A: \n",
      "[[1 2 3]\n",
      " [4 5 6]]\n",
      "\n",
      "A.reshape(3,2): \n",
      "[[1 2]\n",
      " [3 4]\n",
      " [5 6]]\n",
      "\n",
      "A.reshape(6): \n",
      "[1 2 3 4 5 6]\n"
     ]
    }
   ],
   "source": [
    "A = np.array([[1,2,3], [4,5,6]])\n",
    "B = A.reshape(3,2)\n",
    "a = A.reshape(6)\n",
    "print(f'A: \\n{A}')\n",
    "print(f'\\nA.reshape(3,2): \\n{B}')\n",
    "print(f'\\nA.reshape(6): \\n{a}')"
   ]
  },
  {
   "cell_type": "markdown",
   "metadata": {},
   "source": [
    "## Flattened"
   ]
  },
  {
   "cell_type": "markdown",
   "metadata": {},
   "source": [
    "El método `.flatten()` de NumPy convierte un array multidimensional en un array unidimensional. Esto es útil cuando necesitas trabajar con datos en una forma lineal. Por ejemplo, si tienes un array `D` de forma `(2, 3)`, puedes aplanarlo utilizando `D.flatten()`."
   ]
  },
  {
   "cell_type": "code",
   "execution_count": 9,
   "metadata": {},
   "outputs": [
    {
     "name": "stdout",
     "output_type": "stream",
     "text": [
      "A: \n",
      "[[1 2 3]\n",
      " [4 5 6]]\n",
      "\n",
      "A.flatten(): [1 2 3 4 5 6]\n"
     ]
    }
   ],
   "source": [
    "a_flat = A.flatten()\n",
    "print(f'A: \\n{A}')\n",
    "print(f'\\nA.flatten(): {a_flat}')"
   ]
  },
  {
   "cell_type": "markdown",
   "metadata": {},
   "source": [
    "La función ravel también aplanará un array como flatten, pero devuelve una vista del array original cuando sea posible."
   ]
  },
  {
   "cell_type": "code",
   "execution_count": 11,
   "metadata": {},
   "outputs": [
    {
     "data": {
      "text/plain": [
       "array([1, 2, 3, 4, 5, 6])"
      ]
     },
     "execution_count": 11,
     "metadata": {},
     "output_type": "execute_result"
    }
   ],
   "source": [
    "A.ravel()"
   ]
  },
  {
   "cell_type": "markdown",
   "metadata": {},
   "source": [
    "## Reverse an array"
   ]
  },
  {
   "cell_type": "code",
   "execution_count": 14,
   "metadata": {},
   "outputs": [
    {
     "name": "stdout",
     "output_type": "stream",
     "text": [
      "A: \n",
      "[[1 2 3]\n",
      " [4 5 6]]\n",
      "\n",
      "A[::-1]: \n",
      "[[4 5 6]\n",
      " [1 2 3]]\n"
     ]
    }
   ],
   "source": [
    "print(f'A: \\n{A}')\n",
    "print(f'\\nA[::-1]: \\n{A[::-1]}')"
   ]
  }
 ],
 "metadata": {
  "kernelspec": {
   "display_name": ".venv",
   "language": "python",
   "name": "python3"
  },
  "language_info": {
   "codemirror_mode": {
    "name": "ipython",
    "version": 3
   },
   "file_extension": ".py",
   "mimetype": "text/x-python",
   "name": "python",
   "nbconvert_exporter": "python",
   "pygments_lexer": "ipython3",
   "version": "3.10.8"
  }
 },
 "nbformat": 4,
 "nbformat_minor": 2
}
