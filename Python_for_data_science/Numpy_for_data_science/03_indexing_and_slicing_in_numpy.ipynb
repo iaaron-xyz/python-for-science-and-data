{
 "cells": [
  {
   "cell_type": "code",
   "execution_count": 25,
   "metadata": {},
   "outputs": [],
   "source": [
    "import numpy as np"
   ]
  },
  {
   "cell_type": "markdown",
   "metadata": {},
   "source": [
    "**Table of contents**<a id='toc0_'></a>    \n",
    "- 1. [Indexing and Slicing](#toc1_)    \n",
    "  - 1.1. [Basic Indexing](#toc1_1_)    \n",
    "    - 1.1.1. [Indexing in 1D arrays](#toc1_1_1_)    \n",
    "    - 1.1.2. [Indexing in Multidimensional arrays](#toc1_1_2_)    \n",
    "  - 1.2. [Advanced Indexing](#toc1_2_)    \n",
    "    - 1.2.1. [Boolean arrays](#toc1_2_1_)    \n",
    "    - 1.2.2. [Integer array Indexing](#toc1_2_2_)    \n",
    "  - 1.3. [Basic Slicing](#toc1_3_)    \n",
    "    - 1.3.1. [Slicing in 1D arrays](#toc1_3_1_)    \n",
    "    - 1.3.2. [Slicing multidimensional arrays](#toc1_3_2_)    \n",
    "\n",
    "<!-- vscode-jupyter-toc-config\n",
    "\tnumbering=true\n",
    "\tanchor=true\n",
    "\tflat=false\n",
    "\tminLevel=1\n",
    "\tmaxLevel=6\n",
    "\t/vscode-jupyter-toc-config -->\n",
    "<!-- THIS CELL WILL BE REPLACED ON TOC UPDATE. DO NOT WRITE YOUR TEXT IN THIS CELL -->"
   ]
  },
  {
   "cell_type": "markdown",
   "metadata": {},
   "source": [
    "# 1. <a id='toc1_'></a>[Indexing and Slicing](#toc0_)"
   ]
  },
  {
   "cell_type": "markdown",
   "metadata": {},
   "source": [
    " Numpy arrays or *ndarrays* for short, can be indexed using the standard Python syntax: `x[obj]`."
   ]
  },
  {
   "cell_type": "code",
   "execution_count": 26,
   "metadata": {},
   "outputs": [
    {
     "name": "stdout",
     "output_type": "stream",
     "text": [
      "arr = [ 10  20  30  40  50  60  70  80  90 100]\n",
      "\n",
      "A = \n",
      "[[42 21 46]\n",
      " [14 48 11]\n",
      " [26 28 49]]\n"
     ]
    }
   ],
   "source": [
    "# Example array\n",
    "arr = np.arange(10, 101, 10)\n",
    "A = np.random.randint(10, 50, size=(3,3))\n",
    "print(f'arr = {arr}')\n",
    "print(f'\\nA = \\n{A}')"
   ]
  },
  {
   "cell_type": "markdown",
   "metadata": {},
   "source": [
    "## 1.1. <a id='toc1_1_'></a>[Basic Indexing](#toc0_)"
   ]
  },
  {
   "cell_type": "markdown",
   "metadata": {},
   "source": [
    "### 1.1.1. <a id='toc1_1_1_'></a>[Indexing in 1D arrays](#toc0_)"
   ]
  },
  {
   "cell_type": "code",
   "execution_count": 27,
   "metadata": {},
   "outputs": [
    {
     "name": "stdout",
     "output_type": "stream",
     "text": [
      "arr = [ 10  20  30  40  50  60  70  80  90 100]\n",
      "arr[0] = 10\n",
      "arr[-1] = 100\n",
      "arr[-2] = 90\n"
     ]
    }
   ],
   "source": [
    "print(f'arr = {arr}')\n",
    "print(f'arr[0] = {arr[0]}')\n",
    "print(f'arr[-1] = {arr[-1]}')\n",
    "print(f'arr[-2] = {arr[-2]}')"
   ]
  },
  {
   "cell_type": "markdown",
   "metadata": {},
   "source": [
    "### 1.1.2. <a id='toc1_1_2_'></a>[Indexing in Multidimensional arrays](#toc0_)"
   ]
  },
  {
   "cell_type": "markdown",
   "metadata": {},
   "source": [
    "Get a specific element in an array using its index position."
   ]
  },
  {
   "cell_type": "code",
   "execution_count": 31,
   "metadata": {},
   "outputs": [
    {
     "name": "stdout",
     "output_type": "stream",
     "text": [
      "A = \n",
      "[[42 21 46]\n",
      " [14 48 11]\n",
      " [26 28 49]]\n",
      "\n",
      "A[1,2] = 11\n"
     ]
    }
   ],
   "source": [
    "print(f'A = \\n{A}')\n",
    "print(f'\\nA[1,2] = {A[1,2]}')"
   ]
  },
  {
   "cell_type": "markdown",
   "metadata": {},
   "source": [
    "## 1.2. <a id='toc1_2_'></a>[Advanced Indexing](#toc0_)"
   ]
  },
  {
   "cell_type": "markdown",
   "metadata": {},
   "source": [
    "More methods and details at the documentation site: [Numpy: Advanced idexing](https://numpy.org/doc/stable/user/basics.indexing.html#advanced-indexing)"
   ]
  },
  {
   "cell_type": "markdown",
   "metadata": {},
   "source": [
    "### 1.2.1. <a id='toc1_2_1_'></a>[Boolean arrays](#toc0_)"
   ]
  },
  {
   "cell_type": "code",
   "execution_count": 28,
   "metadata": {},
   "outputs": [
    {
     "name": "stdout",
     "output_type": "stream",
     "text": [
      "arr = [ 10  20  30  40  50  60  70  80  90 100]\n",
      "bool_arr = (arr % 2 == 0) ==> [ True  True  True  True  True  True  True  True  True  True]\n"
     ]
    }
   ],
   "source": [
    "bool_arr = arr % 2 == 0\n",
    "print(f'arr = {arr}')\n",
    "print(f'bool_arr = (arr % 2 == 0) ==> {bool_arr}')"
   ]
  },
  {
   "cell_type": "markdown",
   "metadata": {},
   "source": [
    "### 1.2.2. <a id='toc1_2_2_'></a>[Integer array Indexing](#toc0_)"
   ]
  },
  {
   "cell_type": "markdown",
   "metadata": {},
   "source": [
    "The integer array indexing allows the selection of arbitrary items in the array. **Each integer in the array represents the index in the to-be indexed array.**"
   ]
  },
  {
   "cell_type": "code",
   "execution_count": 29,
   "metadata": {},
   "outputs": [
    {
     "name": "stdout",
     "output_type": "stream",
     "text": [
      "arr = [ 10  20  30  40  50  60  70  80  90 100]\n",
      "int_arr = [0 2 4 6 8]\n",
      "indexed_new_arr = arr[int_arr] ==> [10 30 50 70 90]\n"
     ]
    }
   ],
   "source": [
    "int_arr = np.arange(0,10,2)\n",
    "indexed_int_arr = arr[int_arr]\n",
    "print(f'arr = {arr}')\n",
    "print(f'int_arr = {int_arr}')\n",
    "print(f'indexed_new_arr = arr[int_arr] ==> {indexed_int_arr}')"
   ]
  },
  {
   "cell_type": "markdown",
   "metadata": {},
   "source": [
    "## 1.3. <a id='toc1_3_'></a>[Basic Slicing](#toc0_)"
   ]
  },
  {
   "cell_type": "markdown",
   "metadata": {},
   "source": [
    "### 1.3.1. <a id='toc1_3_1_'></a>[Slicing in 1D arrays](#toc0_)"
   ]
  },
  {
   "cell_type": "code",
   "execution_count": 30,
   "metadata": {},
   "outputs": [
    {
     "name": "stdout",
     "output_type": "stream",
     "text": [
      "arr = [ 10  20  30  40  50  60  70  80  90 100]\n",
      "arr[1:3] = [20 30]\n",
      "arr[1:-1] = [20 30 40 50 60 70 80 90]\n",
      "arr[1:20] = [ 20  30  40  50  60  70  80  90 100]\n",
      "arr[2:] = [ 30  40  50  60  70  80  90 100]\n"
     ]
    }
   ],
   "source": [
    "print(f'arr = {arr}')\n",
    "print(f'arr[1:3] = {arr[1:3]}')\n",
    "print(f'arr[1:-1] = {arr[1:-1]}')\n",
    "print(f'arr[1:20] = {arr[1:20]}')\n",
    "print(f'arr[2:] = {arr[2:]}')"
   ]
  },
  {
   "cell_type": "markdown",
   "metadata": {},
   "source": [
    "### 1.3.2. <a id='toc1_3_2_'></a>[Slicing multidimensional arrays](#toc0_)"
   ]
  },
  {
   "cell_type": "code",
   "execution_count": 33,
   "metadata": {},
   "outputs": [
    {
     "name": "stdout",
     "output_type": "stream",
     "text": [
      "A = \n",
      "[[42 21 46]\n",
      " [14 48 11]\n",
      " [26 28 49]]\n",
      "\n",
      "A[:,1:] = \n",
      "[[21 46]\n",
      " [48 11]\n",
      " [28 49]]\n"
     ]
    }
   ],
   "source": [
    "print(f'A = \\n{A}')\n",
    "print(f'\\nA[:,1:] = \\n{A[:,1:]}')"
   ]
  },
  {
   "cell_type": "code",
   "execution_count": 34,
   "metadata": {},
   "outputs": [
    {
     "name": "stdout",
     "output_type": "stream",
     "text": [
      "[[9 4 5]\n",
      " [2 5 2]\n",
      " [4 5 1]]\n",
      "4\n"
     ]
    }
   ],
   "source": [
    "array = np.random.randint(1, 10, size=(3,3))\n",
    "print(array)\n",
    "print(array[0,1])"
   ]
  },
  {
   "cell_type": "code",
   "execution_count": 37,
   "metadata": {},
   "outputs": [
    {
     "name": "stdout",
     "output_type": "stream",
     "text": [
      "[[9 4]\n",
      " [2 5]]\n"
     ]
    }
   ],
   "source": [
    "print(array[:2,:2])"
   ]
  }
 ],
 "metadata": {
  "kernelspec": {
   "display_name": ".venv",
   "language": "python",
   "name": "python3"
  },
  "language_info": {
   "codemirror_mode": {
    "name": "ipython",
    "version": 3
   },
   "file_extension": ".py",
   "mimetype": "text/x-python",
   "name": "python",
   "nbconvert_exporter": "python",
   "pygments_lexer": "ipython3",
   "version": "3.10.8"
  }
 },
 "nbformat": 4,
 "nbformat_minor": 2
}
