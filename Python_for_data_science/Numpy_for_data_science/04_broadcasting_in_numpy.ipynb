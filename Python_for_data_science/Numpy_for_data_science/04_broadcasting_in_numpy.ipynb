{
 "cells": [
  {
   "cell_type": "markdown",
   "metadata": {},
   "source": [
    "# Broadcasting"
   ]
  },
  {
   "cell_type": "code",
   "execution_count": 2,
   "metadata": {},
   "outputs": [],
   "source": [
    "import numpy as np"
   ]
  },
  {
   "cell_type": "markdown",
   "metadata": {},
   "source": [
    "> The term broadcasting describes how NumPy treats arrays with different shapes during arithmetic operations. Subject to certain constraints, the smaller array is “broadcast” across the larger array so that they have compatible shapes. "
   ]
  },
  {
   "cell_type": "markdown",
   "metadata": {},
   "source": [
    "### General boradcasting rules"
   ]
  },
  {
   "cell_type": "markdown",
   "metadata": {},
   "source": [
    "Two array dimensions are compatible when:\n",
    "\n",
    "1. They are equal, or\n",
    "2. one of them is 1."
   ]
  },
  {
   "cell_type": "markdown",
   "metadata": {},
   "source": [
    "### Broadcastable arrays"
   ]
  },
  {
   "cell_type": "markdown",
   "metadata": {},
   "source": [
    "A set of arrays are called broadcastable if the above rules produce a valid result.\n",
    "\n",
    "For example, if `a.shape` is (5,1), `b.shape` is (1,6), `c.shape` is (6,) and `d.shape` is () so that d is a scalar, then a, b, c, and d are all broadcastable to dimension (5,6); and\n",
    "\n",
    "- a acts like a (5,6) array where `a[:,0]` is broadcast to the other columns,\n",
    "- b acts like a (5,6) array where `b[0,:]` is broadcast to the other rows,\n",
    "- c acts like a (1,6) array and therefore like a (5,6) array where `c[:]` is broadcast to every row, and finally,\n",
    "- d acts like a (5,6) array where the single value is repeated.\n",
    "\n",
    "Here are some more examples that work:"
   ]
  },
  {
   "cell_type": "markdown",
   "metadata": {},
   "source": [
    "```python\n",
    "A      (2d array):  5 x 4\n",
    "B      (1d array):      1\n",
    "Result (2d array):  5 x 4\n",
    "\n",
    "A      (2d array):  5 x 4\n",
    "B      (1d array):      4\n",
    "Result (2d array):  5 x 4\n",
    "\n",
    "A      (3d array):  15 x 3 x 5\n",
    "B      (3d array):  15 x 1 x 5\n",
    "Result (3d array):  15 x 3 x 5\n",
    "\n",
    "A      (3d array):  15 x 3 x 5\n",
    "B      (2d array):       3 x 5\n",
    "Result (3d array):  15 x 3 x 5\n",
    "\n",
    "A      (3d array):  15 x 3 x 5\n",
    "B      (2d array):       3 x 1\n",
    "Result (3d array):  15 x 3 x 5\n",
    "```"
   ]
  },
  {
   "cell_type": "markdown",
   "metadata": {},
   "source": [
    "And here are some that don't:"
   ]
  },
  {
   "cell_type": "markdown",
   "metadata": {},
   "source": [
    "```python\n",
    "A      (1d array):  3\n",
    "B      (1d array):  4 # trailing dimensions do not match\n",
    "\n",
    "A      (2d array):      2 x 1\n",
    "B      (3d array):  8 x 4 x 3 # second from last dimensions mismatched\n",
    "```"
   ]
  },
  {
   "cell_type": "markdown",
   "metadata": {},
   "source": [
    "In the next figure, `b` is added to each row of `a`."
   ]
  },
  {
   "cell_type": "markdown",
   "metadata": {},
   "source": [
    "![](./media/broadcasting_2.png)"
   ]
  },
  {
   "cell_type": "markdown",
   "metadata": {},
   "source": [
    "In the next figure, an exception will be raised because of the incompatible shapes"
   ]
  },
  {
   "cell_type": "markdown",
   "metadata": {},
   "source": [
    "![](https://numpy.org/doc/stable/_images/broadcasting_3.png)"
   ]
  },
  {
   "cell_type": "markdown",
   "metadata": {},
   "source": [
    "And the last figure, shows how both arrays can stretch if both of them meet the rules."
   ]
  },
  {
   "cell_type": "markdown",
   "metadata": {},
   "source": [
    "![](./media/broadcasting_4.png)"
   ]
  },
  {
   "cell_type": "markdown",
   "metadata": {},
   "source": [
    "### Case 1: n-array vs n-array"
   ]
  },
  {
   "cell_type": "markdown",
   "metadata": {},
   "source": [
    "NumPy operations are usually done on pairs of arrays on an element-by-element basis. In the simplest case, the two arrays must have exactly the same shape, as in the following example:"
   ]
  },
  {
   "cell_type": "code",
   "execution_count": 5,
   "metadata": {},
   "outputs": [
    {
     "name": "stdout",
     "output_type": "stream",
     "text": [
      "arr_a = [1 2 3 4]\n",
      "arr_b = [10 20 30 40]\n",
      "arr_a * arr_b = [ 10  40  90 160]\n"
     ]
    }
   ],
   "source": [
    "arr_a = np.array([1,2,3,4])\n",
    "arr_b = np.array([10,20,30,40])\n",
    "arr_mult = arr_a * arr_b\n",
    "print(f'arr_a = {arr_a}')\n",
    "print(f'arr_b = {arr_b}')\n",
    "print(f'arr_a * arr_b = {arr_mult}')"
   ]
  },
  {
   "cell_type": "markdown",
   "metadata": {},
   "source": [
    "### Case 2: scalar vs n-array"
   ]
  },
  {
   "cell_type": "markdown",
   "metadata": {},
   "source": [
    "The simplest boradcasting after same size arrays is when a scalar and an array are combined in an operation:"
   ]
  },
  {
   "cell_type": "markdown",
   "metadata": {},
   "source": [
    "![](./media/broadcasting_1.png)"
   ]
  },
  {
   "cell_type": "code",
   "execution_count": 8,
   "metadata": {},
   "outputs": [
    {
     "name": "stdout",
     "output_type": "stream",
     "text": [
      "scalar: 2\n",
      "arr_b = [10 20 30 40]\n",
      "scalar * arr_b = [20 40 60 80]\n"
     ]
    }
   ],
   "source": [
    "scalar = 2\n",
    "print(f'scalar: {scalar}')\n",
    "print(f'arr_b = {arr_b}')\n",
    "print(f'scalar * arr_b = {scalar * arr_b}')"
   ]
  },
  {
   "cell_type": "markdown",
   "metadata": {},
   "source": [
    "### Case 3a: n-array vs m-array"
   ]
  },
  {
   "cell_type": "code",
   "execution_count": 17,
   "metadata": {},
   "outputs": [
    {
     "name": "stdout",
     "output_type": "stream",
     "text": [
      "arr_a = [1 2 3 4]\n",
      "arr_c1 = [ 0. 10. 20.]\n",
      "arr_c2 = \n",
      "[[ 0.]\n",
      " [10.]\n",
      " [20.]]\n",
      "\n",
      "arr_a + arr_c2 = \n",
      "[[ 1.  2.  3.  4.]\n",
      " [11. 12. 13. 14.]\n",
      " [21. 22. 23. 24.]]\n"
     ]
    }
   ],
   "source": [
    "arr_c1 =np.array([0.0, 10.0, 20.0])\n",
    "arr_c2 = arr_c1[:, np.newaxis]\n",
    "print(f'arr_a = {arr_a}')\n",
    "print(f'arr_c1 = {arr_c1}')\n",
    "print(f'arr_c2 = \\n{arr_c2}')\n",
    "print(f'\\narr_a + arr_c2 = \\n{arr_a + arr_c2}')"
   ]
  },
  {
   "cell_type": "markdown",
   "metadata": {},
   "source": [
    "where the method `np.newaxis` adds a new dimension to the array in the given position in order to meet the rules of broadcasting. Otherwise you would raise and exception."
   ]
  },
  {
   "cell_type": "code",
   "execution_count": 14,
   "metadata": {},
   "outputs": [
    {
     "name": "stdout",
     "output_type": "stream",
     "text": [
      "arr_c1.shape =  (3,)\n",
      "arr_c2.shape = (3, 1)\n"
     ]
    }
   ],
   "source": [
    "print(f'arr_c1.shape =  {arr_c1.shape}')\n",
    "print(f'arr_c2.shape = {arr_c2.shape}')"
   ]
  },
  {
   "cell_type": "markdown",
   "metadata": {},
   "source": [
    "## Logic operations"
   ]
  },
  {
   "cell_type": "markdown",
   "metadata": {},
   "source": [
    "### `np.all()`"
   ]
  },
  {
   "cell_type": "code",
   "execution_count": 19,
   "metadata": {},
   "outputs": [
    {
     "name": "stdout",
     "output_type": "stream",
     "text": [
      "False\n"
     ]
    }
   ],
   "source": [
    "array = np.array([1,2,3,4,5])\n",
    "print(np.all(array > 3))"
   ]
  },
  {
   "cell_type": "markdown",
   "metadata": {},
   "source": [
    "### `np.any()`"
   ]
  },
  {
   "cell_type": "code",
   "execution_count": 20,
   "metadata": {},
   "outputs": [
    {
     "name": "stdout",
     "output_type": "stream",
     "text": [
      "array = [1 2 3 4 5]\n",
      "True\n"
     ]
    }
   ],
   "source": [
    "print(f'array = {array}')\n",
    "print(np.any(array > 3))"
   ]
  },
  {
   "cell_type": "markdown",
   "metadata": {},
   "source": [
    "## Array methods part 2"
   ]
  },
  {
   "cell_type": "markdown",
   "metadata": {},
   "source": [
    "### Concatenate arrays"
   ]
  },
  {
   "cell_type": "code",
   "execution_count": 29,
   "metadata": {},
   "outputs": [
    {
     "name": "stdout",
     "output_type": "stream",
     "text": [
      "arr_a = [1 2 3 4]\n",
      "arr_b = [10 20 30 40]\n",
      "concatenated array = np.concatenate((arr_a, arr_b)) = [ 1  2  3  4 10 20 30 40]\n"
     ]
    }
   ],
   "source": [
    "print(f'arr_a = {arr_a}')\n",
    "print(f'arr_b = {arr_b}')\n",
    "arr_b.dtype\n",
    "print(f'concatenated array = np.concatenate((arr_a, arr_b)) = {np.concatenate((arr_a, arr_b))}')"
   ]
  },
  {
   "cell_type": "markdown",
   "metadata": {},
   "source": [
    "### Stack arrays"
   ]
  },
  {
   "cell_type": "markdown",
   "metadata": {},
   "source": [
    "### Split arrays"
   ]
  },
  {
   "cell_type": "markdown",
   "metadata": {},
   "source": []
  }
 ],
 "metadata": {
  "kernelspec": {
   "display_name": ".venv",
   "language": "python",
   "name": "python3"
  },
  "language_info": {
   "codemirror_mode": {
    "name": "ipython",
    "version": 3
   },
   "file_extension": ".py",
   "mimetype": "text/x-python",
   "name": "python",
   "nbconvert_exporter": "python",
   "pygments_lexer": "ipython3",
   "version": "3.10.8"
  }
 },
 "nbformat": 4,
 "nbformat_minor": 2
}
