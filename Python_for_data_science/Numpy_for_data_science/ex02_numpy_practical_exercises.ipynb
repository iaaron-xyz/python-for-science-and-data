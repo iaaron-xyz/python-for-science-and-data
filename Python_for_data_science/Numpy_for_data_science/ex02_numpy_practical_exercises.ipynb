{
 "cells": [
  {
   "cell_type": "markdown",
   "metadata": {},
   "source": [
    "# NumPy: Practical exercises"
   ]
  },
  {
   "cell_type": "markdown",
   "metadata": {},
   "source": [
    "Exercises with NumPy, designed to strength the knowledge about the most used methods and be prepared for the future conections with **Pandas** and **Matplotlib**."
   ]
  },
  {
   "cell_type": "markdown",
   "metadata": {},
   "source": [
    "## Basic Operations with Arrays"
   ]
  },
  {
   "cell_type": "markdown",
   "metadata": {},
   "source": [
    ">Create 2 1-dimensional arrays with integers and complete the *sum*, *substraction*, *multiplication*, and *division*."
   ]
  },
  {
   "cell_type": "code",
   "execution_count": 5,
   "metadata": {},
   "outputs": [
    {
     "name": "stdout",
     "output_type": "stream",
     "text": [
      "array1: [10 20 30 40]\n",
      "array2: [1 2 3 4]\n",
      "--------------------\n",
      "Sum: [11 22 33 44]\n",
      "Substraction: [ 9 18 27 36]\n",
      "Multiplication: [ 10  40  90 160]\n",
      "Division: [10. 10. 10. 10.]\n"
     ]
    }
   ],
   "source": [
    "import numpy as np\n",
    "\n",
    "array1 = np.array([10, 20, 30, 40])\n",
    "array2 = np.array([1, 2, 3, 4])\n",
    "\n",
    "sum = array1 + array2\n",
    "substraction = array1 - array2\n",
    "multiplication = array1 * array2\n",
    "division = array1 / array2\n",
    "\n",
    "print(f'array1: {array1}')\n",
    "print(f'array2: {array2}')\n",
    "print(20*\"-\")\n",
    "print(\"Sum:\", sum)\n",
    "print(\"Substraction:\", substraction)\n",
    "print(\"Multiplication:\", multiplication)\n",
    "print(\"Division:\", division)"
   ]
  },
  {
   "cell_type": "markdown",
   "metadata": {},
   "source": [
    "## Statistics with Arrays"
   ]
  },
  {
   "cell_type": "markdown",
   "metadata": {},
   "source": [
    "Given an array with data, calculates the average, the median, the variance, and the standar deviation."
   ]
  },
  {
   "cell_type": "code",
   "execution_count": 6,
   "metadata": {},
   "outputs": [
    {
     "name": "stdout",
     "output_type": "stream",
     "text": [
      "data: [23 76 35 67 89 45 68 79 35]\n",
      "--------------------\n",
      "Average: 57.44444444444444\n",
      "Median: 67.0\n",
      "Variance: 484.02469135802465\n",
      "Standar deviation: 22.000561160071\n"
     ]
    }
   ],
   "source": [
    "data = np.array([23, 76, 35, 67, 89, 45, 68, 79, 35])\n",
    "\n",
    "average = np.mean(data)\n",
    "median = np.median(data)\n",
    "variance = np.var(data)\n",
    "std_deviation = np.std(data)\n",
    "\n",
    "print(f'data: {data}')\n",
    "print(20*\"-\")\n",
    "print(\"Average:\", average)\n",
    "print(\"Median:\", median)\n",
    "print(\"Variance:\", variance)\n",
    "print(\"Standar deviation:\", std_deviation)"
   ]
  },
  {
   "cell_type": "markdown",
   "metadata": {},
   "source": [
    "## Matrix Operations"
   ]
  },
  {
   "cell_type": "markdown",
   "metadata": {},
   "source": [
    "Create 2 2-by-2 matrices and performs the operations of addition, substraction, multiplication (matrix product) and the inverse. "
   ]
  },
  {
   "cell_type": "code",
   "execution_count": 8,
   "metadata": {},
   "outputs": [
    {
     "name": "stdout",
     "output_type": "stream",
     "text": [
      "matrix1: \n",
      "[[1 2]\n",
      " [3 4]]\n",
      "\n",
      "matrix2: \n",
      "[[5 6]\n",
      " [7 8]]\n",
      "--------------------\n",
      "Suma de matrices:\n",
      " [[ 6  8]\n",
      " [10 12]]\n",
      "Resta de matrices:\n",
      " [[-4 -4]\n",
      " [-4 -4]]\n",
      "Producto de matrices:\n",
      " [[19 22]\n",
      " [43 50]]\n",
      "Inversa de la matriz 1:\n",
      " [[-2.   1. ]\n",
      " [ 1.5 -0.5]]\n"
     ]
    }
   ],
   "source": [
    "matrix1 = np.array([[1, 2], [3, 4]])\n",
    "matrix2 = np.array([[5, 6], [7, 8]])\n",
    "\n",
    "suma_matrices = matrix1 + matrix2\n",
    "resta_matrices = matrix1 - matrix2\n",
    "producto_matrices = np.dot(matrix1, matrix2)\n",
    "inversa_matriz1 = np.linalg.inv(matrix1)\n",
    "\n",
    "print(f'matrix1: \\n{matrix1}')\n",
    "print(f'\\nmatrix2: \\n{matrix2}')\n",
    "print(20*\"-\")\n",
    "print(\"Suma de matrices:\\n\", suma_matrices)\n",
    "print(\"Resta de matrices:\\n\", resta_matrices)\n",
    "print(\"Producto de matrices:\\n\", producto_matrices)\n",
    "print(\"Inversa de la matriz 1:\\n\", inversa_matriz1)"
   ]
  },
  {
   "cell_type": "markdown",
   "metadata": {},
   "source": [
    "## Solving a System of Linear Equations"
   ]
  },
  {
   "cell_type": "markdown",
   "metadata": {},
   "source": [
    "Solve the next system of linear equations given by $Ax=b$, where A is a 2-by-2 matrix and $b$ is a 2-elements vector."
   ]
  },
  {
   "cell_type": "code",
   "execution_count": 13,
   "metadata": {},
   "outputs": [
    {
     "name": "stdout",
     "output_type": "stream",
     "text": [
      "A: \n",
      "[[2 3]\n",
      " [1 2]]\n",
      "\n",
      "b: \n",
      "[8 5]\n",
      "\n",
      "Solution -> x = [1. 2.]\n"
     ]
    }
   ],
   "source": [
    "A = np.array([[2, 3], [1, 2]])\n",
    "b = np.array([8, 5])\n",
    "\n",
    "x = np.linalg.solve(A, b)\n",
    "\n",
    "print(f'A: \\n{A}')\n",
    "print(f'\\nb: \\n{b}')\n",
    "print(\"\\nSolution -> x =\", x)"
   ]
  },
  {
   "cell_type": "markdown",
   "metadata": {},
   "source": [
    "## Data Simulation"
   ]
  },
  {
   "cell_type": "markdown",
   "metadata": {},
   "source": [
    "Generate an array with 1000 random numbers with a normal distribution with a mean of 0 and a standar deviation of 1. Calculate the media and the standar deviation of the generated array."
   ]
  },
  {
   "cell_type": "code",
   "execution_count": 14,
   "metadata": {},
   "outputs": [
    {
     "name": "stdout",
     "output_type": "stream",
     "text": [
      "Media de los datos simulados: -0.05306759063150912\n",
      "Desviación estándar de los datos simulados: 0.9858721655048418\n"
     ]
    }
   ],
   "source": [
    "datos_simulados = np.random.normal(0, 1, 1000)\n",
    "media_simulada = np.mean(datos_simulados)\n",
    "desviacion_simulada = np.std(datos_simulados)\n",
    "\n",
    "print(\"Media de los datos simulados:\", media_simulada)\n",
    "print(\"Desviación estándar de los datos simulados:\", desviacion_simulada)"
   ]
  }
 ],
 "metadata": {
  "kernelspec": {
   "display_name": ".venv",
   "language": "python",
   "name": "python3"
  },
  "language_info": {
   "codemirror_mode": {
    "name": "ipython",
    "version": 3
   },
   "file_extension": ".py",
   "mimetype": "text/x-python",
   "name": "python",
   "nbconvert_exporter": "python",
   "pygments_lexer": "ipython3",
   "version": "3.10.8"
  }
 },
 "nbformat": 4,
 "nbformat_minor": 2
}
