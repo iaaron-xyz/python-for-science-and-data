{
 "cells": [
  {
   "cell_type": "code",
   "execution_count": 3,
   "metadata": {},
   "outputs": [],
   "source": [
    "import numpy as np"
   ]
  },
  {
   "cell_type": "markdown",
   "metadata": {},
   "source": [
    "# Numpy Array Basics for Data Science"
   ]
  },
  {
   "cell_type": "markdown",
   "metadata": {},
   "source": [
    ">In these notes the main focus is concepts rather than methods and functions. Given methods will be explained if needed but the order to follow will be to understand why numpy is useful in data science projects.\n",
    "\n",
    " To create elements with different dimmensions, like scalars, vectors, matrices, tensors, or arrays in general, we can use the method\n",
    "- `np.array([element])`\n",
    "\n",
    "**There are 6 general mechanisms for creating arrays**:\n",
    "\n",
    "- Conversion from other Python structures (e.g., lists and tuples).\n",
    "- Intrinsic NumPy functions for array creation (e.g., arange, ones, zeros, etc.)\n",
    "- Replication, union or mutation of existing arrays\n",
    "- Reading arrays from disk, either from standard or custom formats\n",
    "- Creating arrays from raw bytes using strings or buffers.\n",
    "- Using special library functions (e.g. random)\n",
    "\n",
    "You can use these methods to create ndarrays or structured arrays."
   ]
  },
  {
   "cell_type": "markdown",
   "metadata": {},
   "source": [
    "## Types of arrays accordig to its dimensions"
   ]
  },
  {
   "cell_type": "markdown",
   "metadata": {},
   "source": [
    "### Scalars"
   ]
  },
  {
   "cell_type": "markdown",
   "metadata": {},
   "source": [
    "Scalars are element with dimension of 0."
   ]
  },
  {
   "cell_type": "code",
   "execution_count": 4,
   "metadata": {},
   "outputs": [
    {
     "name": "stdout",
     "output_type": "stream",
     "text": [
      "Type: <class 'numpy.ndarray'>, Value: 42, Dimension: 0\n"
     ]
    }
   ],
   "source": [
    "escalar = np.array(42)\n",
    "print(f'Type: {type(escalar)}, Value: {escalar}, Dimension: {escalar.ndim}')"
   ]
  },
  {
   "cell_type": "markdown",
   "metadata": {},
   "source": [
    "### Vectors\n",
    "\n",
    "Vectors or lists are objects with dimension 1."
   ]
  },
  {
   "cell_type": "code",
   "execution_count": 5,
   "metadata": {},
   "outputs": [
    {
     "name": "stdout",
     "output_type": "stream",
     "text": [
      "Type: <class 'numpy.ndarray'>, Value: [23 28 27 23 22 21 20], Dimension: 1\n"
     ]
    }
   ],
   "source": [
    "vector = np.array([23, 28, 27, 23, 22, 21, 20])\n",
    "print(f'Type: {type(vector)}, Value: {vector}, Dimension: {vector.ndim}')"
   ]
  },
  {
   "cell_type": "markdown",
   "metadata": {},
   "source": [
    "### Matrices"
   ]
  },
  {
   "cell_type": "markdown",
   "metadata": {},
   "source": [
    "Matrices are objects with dimension 2."
   ]
  },
  {
   "cell_type": "code",
   "execution_count": 6,
   "metadata": {},
   "outputs": [
    {
     "name": "stdout",
     "output_type": "stream",
     "text": [
      "Matrix: \n",
      "\n",
      "[[1 2 3]\n",
      " [4 5 6]\n",
      " [7 8 9]], Dimension: 2\n"
     ]
    }
   ],
   "source": [
    "matrix = np.array([[1,2,3], [4,5,6], [7,8,9]])\n",
    "print(f'Matrix: \\n\\n{matrix}, Dimension: {matrix.ndim}')"
   ]
  },
  {
   "cell_type": "markdown",
   "metadata": {},
   "source": [
    "### Tensors"
   ]
  },
  {
   "cell_type": "markdown",
   "metadata": {},
   "source": [
    "Tensors are mathematical objects with general dimensions, for example, an scalar is a tensor with dimension 0. In data science a tensor is generally an object with dimension 3 or greater."
   ]
  },
  {
   "cell_type": "code",
   "execution_count": 7,
   "metadata": {},
   "outputs": [
    {
     "name": "stdout",
     "output_type": "stream",
     "text": [
      "Tensor: \n",
      "\n",
      "[[[255 255 255]\n",
      "  [  0   0   0]\n",
      "  [255 255 255]]\n",
      "\n",
      " [[255 255 255]\n",
      "  [  0   0   0]\n",
      "  [255 255 255]]\n",
      "\n",
      " [[255 255 255]\n",
      "  [  0   0   0]\n",
      "  [255 255 255]]], Dimension: 3\n"
     ]
    }
   ],
   "source": [
    "tensor = np.array([[[255,255,255], [0,0,0], [255,255,255]], [[255,255,255], [0,0,0], [255,255,255]], [[255,255,255], [0,0,0], [255,255,255]]])\n",
    "print(f'Tensor: \\n\\n{tensor}, Dimension: {tensor.ndim}')"
   ]
  },
  {
   "cell_type": "markdown",
   "metadata": {},
   "source": [
    "## Special Matrices and Arrays in Numpy"
   ]
  },
  {
   "cell_type": "markdown",
   "metadata": {},
   "source": [
    "### `np.arange(n)`"
   ]
  },
  {
   "cell_type": "code",
   "execution_count": 8,
   "metadata": {},
   "outputs": [
    {
     "name": "stdout",
     "output_type": "stream",
     "text": [
      "[0 1 2 3 4 5 6 7 8 9]\n"
     ]
    }
   ],
   "source": [
    "arr_arange = np.arange(10)\n",
    "print(arr_arange)"
   ]
  },
  {
   "cell_type": "markdown",
   "metadata": {},
   "source": [
    "### `np.eye(n)`"
   ]
  },
  {
   "cell_type": "code",
   "execution_count": 9,
   "metadata": {},
   "outputs": [
    {
     "name": "stdout",
     "output_type": "stream",
     "text": [
      "[[1. 0. 0. 0.]\n",
      " [0. 1. 0. 0.]\n",
      " [0. 0. 1. 0.]\n",
      " [0. 0. 0. 1.]]\n"
     ]
    }
   ],
   "source": [
    "matrix_eye = np.eye(4)\n",
    "print(matrix_eye)"
   ]
  },
  {
   "cell_type": "markdown",
   "metadata": {},
   "source": [
    "### `np.diag(<list_in_diag>)`"
   ]
  },
  {
   "cell_type": "code",
   "execution_count": 10,
   "metadata": {},
   "outputs": [
    {
     "data": {
      "text/plain": [
       "array([[1, 0, 0, 0],\n",
       "       [0, 1, 0, 0],\n",
       "       [0, 0, 1, 0],\n",
       "       [0, 0, 0, 1]])"
      ]
     },
     "execution_count": 10,
     "metadata": {},
     "output_type": "execute_result"
    }
   ],
   "source": [
    "matrix_diag = np.diag([1,1,1,1])\n",
    "matrix_diag"
   ]
  },
  {
   "cell_type": "markdown",
   "metadata": {},
   "source": [
    "### `np.random.random((<rows>, <cols>))`"
   ]
  },
  {
   "cell_type": "code",
   "execution_count": 11,
   "metadata": {},
   "outputs": [
    {
     "data": {
      "text/plain": [
       "array([[0.16579601, 0.38448524],\n",
       "       [0.50433786, 0.55292126],\n",
       "       [0.25164809, 0.62002328]])"
      ]
     },
     "execution_count": 11,
     "metadata": {},
     "output_type": "execute_result"
    }
   ],
   "source": [
    "# Generate a matrix of 3x2 with random float numbers among 0 and 1\n",
    "matrix_rand = np.random.random((3,2))\n",
    "matrix_rand"
   ]
  },
  {
   "cell_type": "code",
   "execution_count": 12,
   "metadata": {},
   "outputs": [
    {
     "data": {
      "text/plain": [
       "array([[5, 8],\n",
       "       [8, 6],\n",
       "       [7, 6]], dtype=int32)"
      ]
     },
     "execution_count": 12,
     "metadata": {},
     "output_type": "execute_result"
    }
   ],
   "source": [
    "# Generate a 3x2 matrix with random integers among 5 and 10\n",
    "matrix_randint = np.random.randint(5,10,(3,2))\n",
    "matrix_randint"
   ]
  },
  {
   "cell_type": "markdown",
   "metadata": {},
   "source": [
    "## Basic arithmetics with numpy arrays"
   ]
  },
  {
   "cell_type": "code",
   "execution_count": 13,
   "metadata": {},
   "outputs": [],
   "source": [
    "v = np.array([1,2,3])\n",
    "w = np.array([10,20,30])"
   ]
  },
  {
   "cell_type": "code",
   "execution_count": 14,
   "metadata": {},
   "outputs": [
    {
     "name": "stdout",
     "output_type": "stream",
     "text": [
      "Basic Arithmetic\n",
      "Addition: [11 22 33]\n",
      "Substraction: [ -9 -18 -27]\n",
      "Product (element wise): [10 40 90]\n",
      "Division (element wise): [0.1 0.1 0.1]\n",
      "Square root: [1.         1.41421356 1.73205081]\n",
      "exponent = [ 2.71828183  7.3890561  20.08553692]\n",
      "logarithm = [0.         0.69314718 1.09861229]\n",
      "\n",
      "Basic Statistics\n",
      "mean = 2.0\n",
      "median = 2.0\n",
      "variance = 0.6666666666666666\n",
      "standar deviation = 0.816496580927726\n"
     ]
    }
   ],
   "source": [
    "print('Basic Arithmetic')\n",
    "print(f'Addition: {v + w}')\n",
    "print(f'Substraction: {v - w}')\n",
    "print(f'Product (element wise): {v * w}')\n",
    "print(f'Division (element wise): {v / w}')\n",
    "print(f'Square root: {np.sqrt(v)}')\n",
    "print(f'exponent = {np.exp(v)}')\n",
    "print(f'logarithm = {np.log(v)}')\n",
    "\n",
    "print('\\nBasic Statistics')\n",
    "print(f'mean = {np.mean(v)}')\n",
    "print(f'median = {np.median(v)}')\n",
    "print(f'variance = {np.var(v)}')\n",
    "print(f'standar deviation = {np.std(v)}')"
   ]
  },
  {
   "cell_type": "markdown",
   "metadata": {},
   "source": [
    "## Numpy arrays performance"
   ]
  },
  {
   "cell_type": "markdown",
   "metadata": {},
   "source": [
    "Arrays in NumPy are used because they provide an efficient and flexible structure for handling large volumes of numerical data. Here are some of the reasons:\n",
    "\n",
    "- Efficiency: NumPy arrays are faster and use less memory than Python lists. This is because NumPy is implemented in C and performs mathematical operations very efficiently.\n",
    "- Vectorized Operations: NumPy allows you to perform mathematical and logical operations on integer arrays without the need for explicit loops. This is known as vectorization and results in cleaner and faster code.\n",
    "- Extended Functionality: NumPy provides a wide range of mathematical and statistical functions that can be applied directly to arrays. In addition, it facilitates data manipulation, such as reshaping, slicing, and indexing arrays.\n",
    "- Compatibility: NumPy is the foundation for many other scientific and data analysis packages in Python, such as SciPy, Pandas, and scikit-learn. Using NumPy makes it easy to integrate and use these libraries."
   ]
  },
  {
   "cell_type": "code",
   "execution_count": 15,
   "metadata": {},
   "outputs": [
    {
     "data": {
      "text/plain": [
       "array([[1, 2, 3],\n",
       "       [4, 5, 6]])"
      ]
     },
     "execution_count": 15,
     "metadata": {},
     "output_type": "execute_result"
    }
   ],
   "source": [
    "a = np.array([[1,2,3],[4,5,6]])\n",
    "a"
   ]
  },
  {
   "cell_type": "code",
   "execution_count": 17,
   "metadata": {},
   "outputs": [
    {
     "name": "stdout",
     "output_type": "stream",
     "text": [
      "Dimension: 2\n",
      "Shape: (2, 3)\n",
      "Data type: int64\n"
     ]
    }
   ],
   "source": [
    "print(f'Dimension: {a.ndim}')\n",
    "print(f'Shape: {a.shape}')\n",
    "print(f'Data type: {a.dtype}')"
   ]
  },
  {
   "cell_type": "markdown",
   "metadata": {},
   "source": [
    "### `dtype`"
   ]
  },
  {
   "cell_type": "markdown",
   "metadata": {},
   "source": [
    "Es un metodo de numpy que nos sirve para saber y para especificar el tipo de dato que estamos usando o que queremos definir."
   ]
  },
  {
   "cell_type": "code",
   "execution_count": 19,
   "metadata": {},
   "outputs": [
    {
     "name": "stdout",
     "output_type": "stream",
     "text": [
      "Value: 3, dtype: uint8\n"
     ]
    }
   ],
   "source": [
    "b = np.array(3, dtype=np.uint8)\n",
    "print(f'Value: {b}, dtype: {b.dtype}')"
   ]
  },
  {
   "cell_type": "markdown",
   "metadata": {},
   "source": [
    "Convert an array to doubles"
   ]
  },
  {
   "cell_type": "code",
   "execution_count": 25,
   "metadata": {},
   "outputs": [
    {
     "name": "stdout",
     "output_type": "stream",
     "text": [
      "Value: \n",
      "[[1. 2. 3.]\n",
      " [4. 5. 6.]], \n",
      "\n",
      "dtype: float64\n"
     ]
    }
   ],
   "source": [
    "d_array = np.array(a, dtype='d')\n",
    "print(f'Value: \\n{d_array}, \\n\\ndtype: {d_array.dtype}')"
   ]
  },
  {
   "cell_type": "markdown",
   "metadata": {},
   "source": [
    "Cast to another `dtype` using `astype()`"
   ]
  },
  {
   "cell_type": "code",
   "execution_count": 29,
   "metadata": {},
   "outputs": [
    {
     "name": "stdout",
     "output_type": "stream",
     "text": [
      "Value: \n",
      "[[1. 2. 3.]\n",
      " [4. 5. 6.]], dtype: float32\n"
     ]
    }
   ],
   "source": [
    "c = a.astype(np.float32)\n",
    "print(f'Value: \\n{c}, dtype: {c.dtype}')"
   ]
  },
  {
   "cell_type": "code",
   "execution_count": null,
   "metadata": {},
   "outputs": [],
   "source": []
  }
 ],
 "metadata": {
  "kernelspec": {
   "display_name": ".venv",
   "language": "python",
   "name": "python3"
  },
  "language_info": {
   "codemirror_mode": {
    "name": "ipython",
    "version": 3
   },
   "file_extension": ".py",
   "mimetype": "text/x-python",
   "name": "python",
   "nbconvert_exporter": "python",
   "pygments_lexer": "ipython3",
   "version": "3.10.8"
  }
 },
 "nbformat": 4,
 "nbformat_minor": 2
}
