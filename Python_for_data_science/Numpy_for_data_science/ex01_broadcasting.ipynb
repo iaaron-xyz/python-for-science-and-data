{
 "cells": [
  {
   "cell_type": "code",
   "execution_count": 1,
   "metadata": {},
   "outputs": [],
   "source": [
    "import numpy as np"
   ]
  },
  {
   "cell_type": "markdown",
   "metadata": {},
   "source": [
    "# Examples of broadcasting with NumPy"
   ]
  },
  {
   "cell_type": "markdown",
   "metadata": {},
   "source": [
    "## Example 1:"
   ]
  },
  {
   "cell_type": "markdown",
   "metadata": {},
   "source": [
    "We have a dataset representing the measurement of the temperature of 7 days in 3 different cities ($3\\times7$ array). However, the measurements have a margin of error, and we are given a one-dimensional array with the correction values for each day of the week, with dimensions $1\\times7$. To approach the correction in the temperature measurement, instead of duplicating the correction array for each city (row), we apply broadcasting:"
   ]
  },
  {
   "cell_type": "code",
   "execution_count": 4,
   "metadata": {},
   "outputs": [
    {
     "name": "stdout",
     "output_type": "stream",
     "text": [
      "Original temperatures: \n",
      "[[30 32 31 29 28 27 26]\n",
      " [25 24 22 23 26 27 28]\n",
      " [20 21 19 18 17 16 15]]\n",
      "\n",
      "Correction values: [ 1.  -1.   0.5 -0.5  0.   1.  -1. ]\n",
      "\n",
      "Fixed temperatures: \n",
      "[[31.  31.  31.5 28.5 28.  28.  25. ]\n",
      " [26.  23.  22.5 22.5 26.  28.  27. ]\n",
      " [21.  20.  19.5 17.5 17.  17.  14. ]]\n"
     ]
    }
   ],
   "source": [
    "# Temperatures (3 cities, 7 days)\n",
    "temperatures = np.array([\n",
    "    [30, 32, 31, 29, 28, 27, 26],\n",
    "    [25, 24, 22, 23, 26, 27, 28],\n",
    "    [20, 21, 19, 18, 17, 16, 15]\n",
    "])\n",
    "\n",
    "# Correction (1 value per day)\n",
    "correction = np.array([1, -1, 0.5, -0.5, 0, 1, -1])\n",
    "\n",
    "# Apply the correction using broadcasting\n",
    "temps_fixed = temperatures + correction\n",
    "\n",
    "print(f'Original temperatures: \\n{temperatures}')\n",
    "print(f'\\nCorrection values: {correction}')\n",
    "print(f'\\nFixed temperatures: \\n{temps_fixed}')"
   ]
  },
  {
   "cell_type": "markdown",
   "metadata": {},
   "source": [
    "How broadcasting was applied:"
   ]
  },
  {
   "cell_type": "markdown",
   "metadata": {},
   "source": [
    "![](./media/Numpy_broadcasting.jpg)"
   ]
  },
  {
   "cell_type": "markdown",
   "metadata": {},
   "source": [
    "## Example 2:"
   ]
  },
  {
   "cell_type": "markdown",
   "metadata": {},
   "source": [
    "We have a $3\\times3$ matrix representing the sales values of 3 products in 3 different stores and a $3\\times1$ vector containing a sales bonus to be applied per store. The broadcasting allows to add this bonus in a more efficient way to each matrix row."
   ]
  },
  {
   "cell_type": "code",
   "execution_count": 7,
   "metadata": {},
   "outputs": [
    {
     "name": "stdout",
     "output_type": "stream",
     "text": [
      "Sales: \n",
      "[[100 200 300]\n",
      " [400 500 600]\n",
      " [700 800 900]]\n",
      "\n",
      "Sales with bonus:\n",
      " [[110 210 310]\n",
      " [420 520 620]\n",
      " [730 830 930]]\n"
     ]
    }
   ],
   "source": [
    "# Product sales in 3 different stores\n",
    "sales = np.array([\n",
    "  [100, 200, 300],\n",
    "  [400, 500, 600],\n",
    "  [700, 800, 900]\n",
    "])\n",
    "\n",
    "# Sales bonus per store\n",
    "bonus = np.array([\n",
    "  [10],\n",
    "  [20],\n",
    "  [30]\n",
    "])\n",
    "\n",
    "sales_updated = sales + bonus\n",
    "\n",
    "print(f'Sales: \\n{sales}')\n",
    "print(f'\\nSales with bonus:\\n {sales_updated}')"
   ]
  },
  {
   "cell_type": "markdown",
   "metadata": {},
   "source": [
    "In this example, numpy expands the array horizontally (ading the lacking columns), the next image shows it more visually:"
   ]
  },
  {
   "cell_type": "markdown",
   "metadata": {},
   "source": [
    "![](./media/broadcasting_ex2.jpg)"
   ]
  }
 ],
 "metadata": {
  "kernelspec": {
   "display_name": ".venv",
   "language": "python",
   "name": "python3"
  },
  "language_info": {
   "codemirror_mode": {
    "name": "ipython",
    "version": 3
   },
   "file_extension": ".py",
   "mimetype": "text/x-python",
   "name": "python",
   "nbconvert_exporter": "python",
   "pygments_lexer": "ipython3",
   "version": "3.10.8"
  }
 },
 "nbformat": 4,
 "nbformat_minor": 2
}
