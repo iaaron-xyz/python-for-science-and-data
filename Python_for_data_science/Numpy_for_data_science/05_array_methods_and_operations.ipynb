{
 "cells": [
  {
   "cell_type": "code",
   "execution_count": 18,
   "metadata": {},
   "outputs": [],
   "source": [
    "import numpy as np"
   ]
  },
  {
   "cell_type": "markdown",
   "metadata": {},
   "source": [
    "# Array methods and operations in NumPy"
   ]
  },
  {
   "cell_type": "markdown",
   "metadata": {},
   "source": [
    "Some of the most common methods and operations with arrays using numpy."
   ]
  },
  {
   "cell_type": "code",
   "execution_count": 19,
   "metadata": {},
   "outputs": [
    {
     "name": "stdout",
     "output_type": "stream",
     "text": [
      "arr_a = [ 0  2  4  6  8 10]\n",
      "arr_b = [ 1  2  3  5  7 11]\n"
     ]
    }
   ],
   "source": [
    "arr_a = np.arange(0,11,2)\n",
    "arr_b = np.array([1,2,3,5,7,11])\n",
    "print(f'arr_a = {arr_a}')\n",
    "print(f'arr_b = {arr_b}')"
   ]
  },
  {
   "cell_type": "markdown",
   "metadata": {},
   "source": [
    "### Concatenation"
   ]
  },
  {
   "cell_type": "code",
   "execution_count": 20,
   "metadata": {},
   "outputs": [
    {
     "name": "stdout",
     "output_type": "stream",
     "text": [
      "arr_a = [ 0  2  4  6  8 10]\n",
      "arr_b = [ 1  2  3  5  7 11]\n",
      "np.concatenate((arr_a, arr_b)) = [ 0  2  4  6  8 10  1  2  3  5  7 11]\n"
     ]
    }
   ],
   "source": [
    "print(f'arr_a = {arr_a}')\n",
    "print(f'arr_b = {arr_b}')\n",
    "arr_b.dtype\n",
    "print(f'np.concatenate((arr_a, arr_b)) = {np.concatenate((arr_a, arr_b))}')"
   ]
  },
  {
   "cell_type": "markdown",
   "metadata": {},
   "source": [
    "### Stacking arrays"
   ]
  },
  {
   "cell_type": "code",
   "execution_count": 21,
   "metadata": {},
   "outputs": [
    {
     "name": "stdout",
     "output_type": "stream",
     "text": [
      "arr_a = [ 0  2  4  6  8 10]\n",
      "arr_b = [ 1  2  3  5  7 11]\n",
      "\n",
      "np.vstack((arr_a, arr_b)) = \n",
      "[[ 0  2  4  6  8 10]\n",
      " [ 1  2  3  5  7 11]]\n",
      "\n",
      "np.hstack((arr_a, arr_b)) = \n",
      "[ 0  2  4  6  8 10  1  2  3  5  7 11]\n"
     ]
    }
   ],
   "source": [
    "arr_stacked_v = np.vstack((arr_a, arr_b))\n",
    "arr_stacked_h = np.hstack((arr_a, arr_b))\n",
    "\n",
    "print(f'arr_a = {arr_a}')\n",
    "print(f'arr_b = {arr_b}')\n",
    "print(f'\\nnp.vstack((arr_a, arr_b)) = \\n{arr_stacked_v}')\n",
    "print(f'\\nnp.hstack((arr_a, arr_b)) = \\n{arr_stacked_h}')\n",
    "\n"
   ]
  },
  {
   "cell_type": "markdown",
   "metadata": {},
   "source": [
    "### Split arrays"
   ]
  },
  {
   "cell_type": "markdown",
   "metadata": {},
   "source": [
    "In order to work with `split` the array must be able to be divided into equal parts, otherwise the method will raise and *error*."
   ]
  },
  {
   "cell_type": "code",
   "execution_count": 22,
   "metadata": {},
   "outputs": [
    {
     "name": "stdout",
     "output_type": "stream",
     "text": [
      "arr_d = [ 1  2  3  4  5  6  7  8  9 10 11 12]\n",
      "np.split(arr_d,3) = [array([1, 2, 3, 4]), array([5, 6, 7, 8]), array([ 9, 10, 11, 12])]\n"
     ]
    }
   ],
   "source": [
    "arr_d = np.arange(1,13)\n",
    "print(f'arr_d = {arr_d}')\n",
    "print(f'np.split(arr_d,3) = {np.split(arr_d,3)}')"
   ]
  }
 ],
 "metadata": {
  "kernelspec": {
   "display_name": ".venv",
   "language": "python",
   "name": "python3"
  },
  "language_info": {
   "codemirror_mode": {
    "name": "ipython",
    "version": 3
   },
   "file_extension": ".py",
   "mimetype": "text/x-python",
   "name": "python",
   "nbconvert_exporter": "python",
   "pygments_lexer": "ipython3",
   "version": "3.10.8"
  }
 },
 "nbformat": 4,
 "nbformat_minor": 2
}
