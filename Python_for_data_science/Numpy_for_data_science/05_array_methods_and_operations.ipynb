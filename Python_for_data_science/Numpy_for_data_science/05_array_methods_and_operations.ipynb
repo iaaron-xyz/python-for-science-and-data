{
 "cells": [
  {
   "cell_type": "code",
   "execution_count": 4,
   "metadata": {},
   "outputs": [],
   "source": [
    "import numpy as np"
   ]
  },
  {
   "cell_type": "markdown",
   "metadata": {},
   "source": [
    "# Array methods and operations in NumPy"
   ]
  },
  {
   "cell_type": "markdown",
   "metadata": {},
   "source": [
    "Some of the most common methods and operations with arrays using numpy."
   ]
  },
  {
   "cell_type": "code",
   "execution_count": 5,
   "metadata": {},
   "outputs": [
    {
     "name": "stdout",
     "output_type": "stream",
     "text": [
      "arr_a = [ 0  2  4  6  8 10]\n",
      "arr_b = [ 1  2  3  5  7 11]\n"
     ]
    }
   ],
   "source": [
    "arr_a = np.arange(0,11,2)\n",
    "arr_b = np.array([1,2,3,5,7,11])\n",
    "print(f'arr_a = {arr_a}')\n",
    "print(f'arr_b = {arr_b}')"
   ]
  },
  {
   "cell_type": "markdown",
   "metadata": {},
   "source": [
    "## Concatenation"
   ]
  },
  {
   "cell_type": "code",
   "execution_count": 6,
   "metadata": {},
   "outputs": [
    {
     "name": "stdout",
     "output_type": "stream",
     "text": [
      "arr_a = [ 0  2  4  6  8 10]\n",
      "arr_b = [ 1  2  3  5  7 11]\n",
      "np.concatenate((arr_a, arr_b)) = [ 0  2  4  6  8 10  1  2  3  5  7 11]\n"
     ]
    }
   ],
   "source": [
    "print(f'arr_a = {arr_a}')\n",
    "print(f'arr_b = {arr_b}')\n",
    "arr_b.dtype\n",
    "print(f'np.concatenate((arr_a, arr_b)) = {np.concatenate((arr_a, arr_b))}')"
   ]
  },
  {
   "cell_type": "markdown",
   "metadata": {},
   "source": [
    "## Stacking arrays"
   ]
  },
  {
   "cell_type": "code",
   "execution_count": 7,
   "metadata": {},
   "outputs": [
    {
     "name": "stdout",
     "output_type": "stream",
     "text": [
      "arr_a = [ 0  2  4  6  8 10]\n",
      "arr_b = [ 1  2  3  5  7 11]\n",
      "\n",
      "np.vstack((arr_a, arr_b)) = \n",
      "[[ 0  2  4  6  8 10]\n",
      " [ 1  2  3  5  7 11]]\n",
      "\n",
      "np.hstack((arr_a, arr_b)) = \n",
      "[ 0  2  4  6  8 10  1  2  3  5  7 11]\n"
     ]
    }
   ],
   "source": [
    "arr_stacked_v = np.vstack((arr_a, arr_b))\n",
    "arr_stacked_h = np.hstack((arr_a, arr_b))\n",
    "\n",
    "print(f'arr_a = {arr_a}')\n",
    "print(f'arr_b = {arr_b}')\n",
    "print(f'\\nnp.vstack((arr_a, arr_b)) = \\n{arr_stacked_v}')\n",
    "print(f'\\nnp.hstack((arr_a, arr_b)) = \\n{arr_stacked_h}')\n",
    "\n"
   ]
  },
  {
   "cell_type": "markdown",
   "metadata": {},
   "source": [
    "## Split arrays"
   ]
  },
  {
   "cell_type": "markdown",
   "metadata": {},
   "source": [
    "In order to work with `split` the array must be able to be divided into equal parts, otherwise the method will raise and *error*."
   ]
  },
  {
   "cell_type": "code",
   "execution_count": 8,
   "metadata": {},
   "outputs": [
    {
     "name": "stdout",
     "output_type": "stream",
     "text": [
      "arr_d = [ 1  2  3  4  5  6  7  8  9 10 11 12]\n",
      "np.split(arr_d,3) = [array([1, 2, 3, 4]), array([5, 6, 7, 8]), array([ 9, 10, 11, 12])]\n"
     ]
    }
   ],
   "source": [
    "arr_d = np.arange(1,13)\n",
    "print(f'arr_d = {arr_d}')\n",
    "print(f'np.split(arr_d,3) = {np.split(arr_d,3)}')"
   ]
  },
  {
   "cell_type": "markdown",
   "metadata": {},
   "source": [
    "## Unique"
   ]
  },
  {
   "cell_type": "markdown",
   "metadata": {},
   "source": [
    "The `unique` functions receives a array and returns a new array where all the elements are unique. Is similar to `set()` functions. In addition to that, te function can return how many times every item was repeated:\n",
    "\n",
    "- `list_elements, count = unique(list_repeated, return_counts=True)`"
   ]
  },
  {
   "cell_type": "code",
   "execution_count": 9,
   "metadata": {},
   "outputs": [],
   "source": [
    "survey_reponses = np.array([\"good\", \"bad\", \"excelent\", \"bad\", \"bad\", \"excelent\", \"good\", \"excelent\", \"good\", \"excelent\"])"
   ]
  },
  {
   "cell_type": "code",
   "execution_count": 12,
   "metadata": {},
   "outputs": [
    {
     "name": "stdout",
     "output_type": "stream",
     "text": [
      "unique_elements: ['bad' 'excelent' 'good']\n",
      "count_elements: [3 4 3]\n"
     ]
    }
   ],
   "source": [
    "unique_elements, count_elements = np.unique(survey_reponses, return_counts=True)\n",
    "print(f'unique_elements: {unique_elements}')\n",
    "print(f'count_elements: {count_elements}')"
   ]
  },
  {
   "cell_type": "markdown",
   "metadata": {},
   "source": [
    "## Copy correctly"
   ]
  },
  {
   "cell_type": "markdown",
   "metadata": {},
   "source": [
    "When copying arrays or array parts to anoter array or variable, you must know array values are passed as **reference** and not as **values**. This means that the value we are \"copying\" it is actually pointing to the same memory address and is **NOT** creating a new instamce."
   ]
  },
  {
   "cell_type": "code",
   "execution_count": 19,
   "metadata": {},
   "outputs": [
    {
     "name": "stdout",
     "output_type": "stream",
     "text": [
      "arr_x: [10 11 12 13 14 15 16 17 18 19]\n",
      "arr_y: [11 12]\n",
      "--------------------\n",
      "arr_x: [ 10 100 200  13  14  15  16  17  18  19]\n",
      "arr_y: [100 200]\n"
     ]
    }
   ],
   "source": [
    "arr_x = np.arange(10,20)\n",
    "arr_y = arr_x[1:3]\n",
    "print(f'arr_x: {arr_x}')\n",
    "print(f'arr_y: {arr_y}')\n",
    "print(20*'-')\n",
    "\n",
    "arr_x[1:3] = [100, 200]\n",
    "print(f'arr_x: {arr_x}')\n",
    "print(f'arr_y: {arr_y}')"
   ]
  },
  {
   "cell_type": "markdown",
   "metadata": {},
   "source": [
    "To avoid the issue in the code above, you can use double brackets or the `.copy()` method. The next 2 examples are equivalent:\n",
    "- `copy_x = arr_x[[1,2,3]] `\n",
    "- `copy_x = np.copy(arr_x[1:4])`"
   ]
  },
  {
   "cell_type": "code",
   "execution_count": 22,
   "metadata": {},
   "outputs": [
    {
     "name": "stdout",
     "output_type": "stream",
     "text": [
      "arr_x: [20 21 22 23 24 25 26 27 28 29]\n",
      "copy_x: [21 22 23]\n",
      "--------------------\n",
      "arr_x: [ 20 100 200  23  24  25  26  27  28  29]\n",
      "copy_x: [21 22 23]\n"
     ]
    }
   ],
   "source": [
    "arr_x = np.arange(20,30)\n",
    "# copy_x = arr_x[[1,2,3]]\n",
    "np.copy(arr_x[1:4])\n",
    "print(f'arr_x: {arr_x}')\n",
    "print(f'copy_x: {copy_x}')\n",
    "print(20*'-')\n",
    "\n",
    "arr_x[1:3] = [100, 200]\n",
    "print(f'arr_x: {arr_x}')\n",
    "print(f'copy_x: {copy_x}')"
   ]
  },
  {
   "cell_type": "code",
   "execution_count": null,
   "metadata": {},
   "outputs": [],
   "source": []
  }
 ],
 "metadata": {
  "kernelspec": {
   "display_name": ".venv",
   "language": "python",
   "name": "python3"
  },
  "language_info": {
   "codemirror_mode": {
    "name": "ipython",
    "version": 3
   },
   "file_extension": ".py",
   "mimetype": "text/x-python",
   "name": "python",
   "nbconvert_exporter": "python",
   "pygments_lexer": "ipython3",
   "version": "3.10.8"
  }
 },
 "nbformat": 4,
 "nbformat_minor": 2
}
