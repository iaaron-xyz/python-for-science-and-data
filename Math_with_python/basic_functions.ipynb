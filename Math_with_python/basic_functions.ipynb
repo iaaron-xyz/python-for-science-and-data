{
 "cells": [
  {
   "cell_type": "markdown",
   "metadata": {
    "id": "vH4sOMr9N-1O"
   },
   "source": [
    "Libraries\n"
   ]
  },
  {
   "cell_type": "code",
   "execution_count": 2,
   "metadata": {
    "id": "_eH8kVUMMmkK"
   },
   "outputs": [],
   "source": [
    "import matplotlib.pyplot as plt                # Plot library\n",
    "import numpy as np                             # Math library\n",
    "from ipywidgets import interact, FloatSlider   # Add interactive slider\n",
    "%matplotlib inline"
   ]
  },
  {
   "cell_type": "markdown",
   "metadata": {
    "id": "-y2aX5rENwhH"
   },
   "source": [
    "# Algebraic functions"
   ]
  },
  {
   "cell_type": "markdown",
   "metadata": {
    "id": "2yBuQZflF0UX"
   },
   "source": [
    "### linear functions\n",
    "\n",
    "They have the form $$f(x)=mx + b$$ where $m$ y $b$  $\\in R$.\n",
    "\n",
    "$m$ can be calculated with: $$m=\\frac{y_{2}-y_{1}}{x_{2}-x_{1}}$$\n",
    "\n",
    "and $b$ is the phase along the $y$ axis. Its domain is $Dom_{f} = (-\\infty, \\infty)$. It's image is $Im_{f} = (-\\infty, \\infty)$\n",
    "\n",
    "\n"
   ]
  },
  {
   "cell_type": "code",
   "execution_count": 20,
   "metadata": {
    "colab": {
     "base_uri": "https://localhost:8080/",
     "height": 265
    },
    "id": "n3vMv_IGHGpy",
    "outputId": "22ac8e63-7078-41c3-e9b6-676d2aa07ea8"
   },
   "outputs": [
    {
     "data": {
      "application/vnd.jupyter.widget-view+json": {
       "model_id": "9de4bb5caf58493293c40b693ccac32c",
       "version_major": 2,
       "version_minor": 0
      },
      "text/plain": [
       "interactive(children=(FloatSlider(value=1.0, description='m', max=6.0, min=-6.0, step=0.5), FloatSlider(value=…"
      ]
     },
     "metadata": {},
     "output_type": "display_data"
    },
    {
     "data": {
      "text/plain": [
       "<function __main__.linear_equation(m, b)>"
      ]
     },
     "execution_count": 20,
     "metadata": {},
     "output_type": "execute_result"
    }
   ],
   "source": [
    "def linear_equation(m, b):\n",
    "  # function\n",
    "  x = np.linspace(-10,10, num=100)\n",
    "  y = m*x + b\n",
    "  # plot\n",
    "  plt.figure(figsize=(10, 5))\n",
    "  plt.plot(x, y)\n",
    "  # titles and labels\n",
    "  plt.title(f\"m (slope): = {m}, b = {b}\")\n",
    "  plt.xlabel(\"x\")\n",
    "  plt.ylabel(\"x = m*x + b\")\n",
    "  # fixed limits\n",
    "  plt.xlim(-10,10)\n",
    "  plt.ylim(-10, 10)\n",
    "  # render the plot\n",
    "  plt.grid()\n",
    "  plt.show()\n",
    "\n",
    "interact(\n",
    "    linear_equation,\n",
    "    m=FloatSlider(value=1.0, min=-6.0, max=6.0, step=0.5),\n",
    "    b=FloatSlider(value=0, min=-5.0, max=5.0, step=0.5),\n",
    ")"
   ]
  },
  {
   "cell_type": "markdown",
   "metadata": {
    "id": "FflFWNqjJCuO"
   },
   "source": [
    "### Polynomical functions\n",
    "\n",
    "They have the form $$P(x)=a_{n}x^{n} + a_{n-1}x^{n-1}+...+a_{2}x^{2}+a_{1}x + a_{1}$$\n",
    "\n",
    "a function with this form is called as a polynomial of grande $n$. The parameters $a$ are called coefficients where $a \\in R$ and $n$ is the biggest power in the polynomial.\n",
    "\n",
    "**Example:**\n",
    "\n",
    "$$P(x)= 2x^{7} - x^{4} + 3x^{2} + 4$$\n",
    "\n",
    "is a grade $7$ polynomial."
   ]
  },
  {
   "cell_type": "code",
   "execution_count": 21,
   "metadata": {
    "colab": {
     "base_uri": "https://localhost:8080/",
     "height": 276
    },
    "id": "v5EI228kb6NK",
    "outputId": "e83263c8-717f-4f52-e8f6-0c0f1f0e5116"
   },
   "outputs": [
    {
     "data": {
      "application/vnd.jupyter.widget-view+json": {
       "model_id": "dfd773fe9a564810b6c9bcbced9a1bd8",
       "version_major": 2,
       "version_minor": 0
      },
      "text/plain": [
       "interactive(children=(FloatSlider(value=1.0, description='n', max=10.0, step=1.0), Output()), _dom_classes=('w…"
      ]
     },
     "metadata": {},
     "output_type": "display_data"
    },
    {
     "data": {
      "text/plain": [
       "<function __main__.polynomial(n)>"
      ]
     },
     "execution_count": 21,
     "metadata": {},
     "output_type": "execute_result"
    }
   ],
   "source": [
    "def polynomial(n):\n",
    "  # function\n",
    "  x = np.linspace(-10,10, num=200)\n",
    "  y = x**n\n",
    "  # plot\n",
    "  plt.figure(figsize=(10, 5))\n",
    "  plt.plot(x, y)\n",
    "  # titles and labels\n",
    "  plt.title(f\"n (grade): = {n}\")\n",
    "  plt.xlabel(\"x\")\n",
    "  plt.ylabel(\"P(x) of grade n\")\n",
    "  # fixed limits\n",
    "  plt.xlim(-3,3)\n",
    "  plt.ylim(-20, 20)\n",
    "  # render the plot\n",
    "  plt.grid()\n",
    "  plt.show()\n",
    "\n",
    "interact(\n",
    "    polynomial,\n",
    "    n=FloatSlider(value=1.0, min=0, max=10, step=1)\n",
    ")"
   ]
  },
  {
   "cell_type": "markdown",
   "metadata": {
    "id": "K6HsXY0OmJK8"
   },
   "source": [
    "# Trascendental functions\n",
    "\n",
    "A transcendental function is a function that cannot be expressed as a **finite** combination of algebraic operations, such as addition, subtraction, multiplication, division, raising to a power, and extracting a root. These functions are often solutions to differential equations and are typically obtained through Taylor series expansions."
   ]
  },
  {
   "cell_type": "markdown",
   "metadata": {
    "id": "5-SPisguvJOv"
   },
   "source": [
    "### Trigonometric functions\n",
    "\n",
    "The well known $cos(x)$, $sen(x)$ y $tan(x)$ among others."
   ]
  },
  {
   "cell_type": "code",
   "execution_count": 22,
   "metadata": {
    "colab": {
     "base_uri": "https://localhost:8080/",
     "height": 282
    },
    "id": "UUcfkDvwjCiU",
    "outputId": "17de2fc4-6227-4788-d67e-df7c3854926f"
   },
   "outputs": [
    {
     "data": {
      "application/vnd.jupyter.widget-view+json": {
       "model_id": "d93e6d7cb1f94130bf77a6ebd883bc7c",
       "version_major": 2,
       "version_minor": 0
      },
      "text/plain": [
       "interactive(children=(FloatSlider(value=1.0, description='amplitude', max=10.0, step=1.0), FloatSlider(value=0…"
      ]
     },
     "metadata": {},
     "output_type": "display_data"
    },
    {
     "data": {
      "text/plain": [
       "<function __main__.cos_func(amplitude, phase, frequency)>"
      ]
     },
     "execution_count": 22,
     "metadata": {},
     "output_type": "execute_result"
    }
   ],
   "source": [
    "def cos_func(amplitude, phase, frequency):\n",
    "  # function\n",
    "  x = np.linspace(-10,10, num=200)\n",
    "  y = amplitude*np.cos(frequency*x + phase)\n",
    "  # plot\n",
    "  plt.figure(figsize=(10, 5))\n",
    "  plt.plot(x, y)\n",
    "  # titles and labels\n",
    "  plt.title(f\"Amplitude  = {amplitude}, Phase = {phase}, frequency = {frequency}\")\n",
    "  plt.xlabel(\"x\")\n",
    "  plt.ylabel(\"cos(x)\")\n",
    "  # fixed limits\n",
    "  plt.xlim(-10,10)\n",
    "  plt.ylim(-10, 10)\n",
    "  # render the plot\n",
    "  plt.grid()\n",
    "  plt.show()\n",
    "\n",
    "interact(\n",
    "    cos_func,\n",
    "    amplitude=FloatSlider(value=1.0, min=0, max=10, step=1),\n",
    "    phase=FloatSlider(value=0, min=-3.0, max=3.0, step=0.2),\n",
    "    frequency=FloatSlider(value=1.0, min=0.0, max=5.0, step=0.5)\n",
    ")"
   ]
  },
  {
   "cell_type": "markdown",
   "metadata": {
    "id": "fD5TzUHQz3L0"
   },
   "source": [
    "### Exponential function\n",
    "\n",
    "With the form $$f(x)=a^x$$ where the base $a$ is a constant positive. The most famous exponential functions is that with the euler constant as a base:\n",
    "\n",
    "$$f(x)=e^x$$"
   ]
  },
  {
   "cell_type": "code",
   "execution_count": 15,
   "metadata": {
    "colab": {
     "base_uri": "https://localhost:8080/",
     "height": 282
    },
    "id": "Ax2KATylz7SQ",
    "outputId": "076727b4-6402-4668-83eb-4982538e29e0"
   },
   "outputs": [
    {
     "data": {
      "image/png": "[encoded data removed]",
      "text/plain": [
       "<Figure size 1000x500 with 1 Axes>"
      ]
     },
     "metadata": {},
     "output_type": "display_data"
    }
   ],
   "source": [
    "def exp_func(base=np.e):\n",
    "  # function\n",
    "  x = np.linspace(-10,10, num=200)\n",
    "  y = base**x\n",
    "  # plot\n",
    "  plt.figure(figsize=(10, 5))\n",
    "  plt.plot(x, y)\n",
    "  # titles and labels\n",
    "  plt.title(f\"\")\n",
    "  plt.xlabel(\"x\")\n",
    "  plt.ylabel(\"e^x\")\n",
    "  # fixed limits\n",
    "  plt.xlim(-5,3)\n",
    "  plt.ylim(-1, 10)\n",
    "  # render the plot\n",
    "  plt.grid()\n",
    "  plt.show()\n",
    "\n",
    "exp_func()"
   ]
  },
  {
   "cell_type": "markdown",
   "metadata": {
    "id": "sCuI2UVA046t"
   },
   "source": [
    "### Logarithm function\n",
    "\n",
    "The logarithm is defined by the **relation**:\n",
    "\n",
    "$$log_{b}(x) = n \\Longleftrightarrow x=b^n$$\n",
    "\n",
    "where:\n",
    "\n",
    "\n",
    "\n",
    "*   $b$ is the base.\n",
    "*   $n$ is the exponent the base is elevated to.\n",
    "*   $x$ is the result from taking the base $b$ to the power of $n$\n",
    "\n",
    "**Example:**\n",
    "\n",
    "Taking b=2 and n=8:\n",
    "\n",
    "$$2^8=256$$\n",
    "\n",
    "Such that $x=256$. The logarithm base 2 of $x$ is:\n",
    "\n",
    "$$log_{2}(256) = 8$$\n",
    "\n",
    "\n",
    "\n"
   ]
  },
  {
   "cell_type": "code",
   "execution_count": 18,
   "metadata": {
    "colab": {
     "base_uri": "https://localhost:8080/",
     "height": 282
    },
    "id": "e2HWt9k746Un",
    "outputId": "805d3801-4c96-4fb9-a1d0-1cca0bd4717f"
   },
   "outputs": [
    {
     "data": {
      "image/png": "[encoded data removed]",
      "text/plain": [
       "<Figure size 1000x500 with 1 Axes>"
      ]
     },
     "metadata": {},
     "output_type": "display_data"
    }
   ],
   "source": [
    "def log_func(base=np.e):\n",
    "  # function\n",
    "  x = np.linspace(0.001,300, num=1000)\n",
    "  y = np.log2(x)\n",
    "  # plot\n",
    "  plt.figure(figsize=(10, 5))\n",
    "  plt.plot(x, y)\n",
    "  # titles and labels\n",
    "  plt.title(f\"\")\n",
    "  plt.xlabel(\"x\")\n",
    "  plt.ylabel(\"e^x\")\n",
    "  # fixed limits\n",
    "  plt.xlim(0.1,300)\n",
    "  plt.ylim(-2, 10)\n",
    "  # render the plot\n",
    "  plt.grid()\n",
    "  plt.show()\n",
    "\n",
    "log_func()"
   ]
  },
  {
   "cell_type": "markdown",
   "metadata": {
    "id": "6Rz2Ofe_8zPM"
   },
   "source": [
    "# Functions defined by intervals\n",
    "\n",
    "Are functions defined by intervals, a well known example is the Heaviside function:\n",
    "\n",
    "$$H(x) =\n",
    "     \\begin{cases}\n",
    "        0, &\\quad \\text{for, } x < 0 \\\\\n",
    "        1,  &\\quad\\text{for, } x \\ge 0 \\\\\n",
    "     \\end{cases}\n",
    "$$"
   ]
  },
  {
   "cell_type": "code",
   "execution_count": 19,
   "metadata": {
    "colab": {
     "base_uri": "https://localhost:8080/",
     "height": 282
    },
    "id": "aWvsXZDzLl0r",
    "outputId": "4e2022ee-dca4-46a9-ff83-1e3c302dba70"
   },
   "outputs": [
    {
     "data": {
      "text/plain": [
       "[<matplotlib.lines.Line2D at 0x1e0e7660a90>]"
      ]
     },
     "execution_count": 19,
     "metadata": {},
     "output_type": "execute_result"
    },
    {
     "data": {
      "image/png": "[encoded data removed]",
      "text/plain": [
       "<Figure size 640x480 with 1 Axes>"
      ]
     },
     "metadata": {},
     "output_type": "display_data"
    }
   ],
   "source": [
    "# step function\n",
    "def H(x):\n",
    "  Y = np.zeros(len(x))\n",
    "  for idx,x in enumerate(x):\n",
    "    if x>=0:\n",
    "      Y[idx]=1\n",
    "  return Y\n",
    "\n",
    "# plot\n",
    "N=1000\n",
    "x = np.linspace(-10,10, num=N)\n",
    "y = H(x)\n",
    "plt.plot(x,y)"
   ]
  }
 ],
 "metadata": {
  "colab": {
   "provenance": []
  },
  "kernelspec": {
   "display_name": ".venv",
   "language": "python",
   "name": "python3"
  },
  "language_info": {
   "codemirror_mode": {
    "name": "ipython",
    "version": 3
   },
   "file_extension": ".py",
   "mimetype": "text/x-python",
   "name": "python",
   "nbconvert_exporter": "python",
   "pygments_lexer": "ipython3",
   "version": "3.10.8"
  }
 },
 "nbformat": 4,
 "nbformat_minor": 0
}
