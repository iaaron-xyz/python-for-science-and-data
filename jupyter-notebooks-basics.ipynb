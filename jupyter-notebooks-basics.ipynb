{
 "cells": [
  {
   "cell_type": "markdown",
   "metadata": {},
   "source": [
    "# Quick Introduction to Jupyter Notebooks and Basic Python\n",
    "\n",
    "## Table of contents\n",
    "1. [Basic Jupyter notebooks](#1)\n",
    "1. [Basic Python and How it works in a Notebook](#2)"
   ]
  },
  {
   "cell_type": "markdown",
   "metadata": {},
   "source": [
    "<a id=\"1\"></a>\n",
    "# 1. Basic Jupyter Notebooks\n",
    "\n",
    "<a id=\"1.1\"></a>\n",
    "## A. Jupyter Notebooks Basic Commands\n",
    "\n",
    "- `ESC` to exit the *edit-mode* of a cell and enter the into the *select-mode* of the cells.\n",
    "- `ENTER` to enter the *edit-mode* and edit the content of the selected cell.\n",
    "- Press the `a` key while in *select-mode* to create a cell *above* the current selected cell.\n",
    "- Press the `b` key while in *select-mode* to create a cell *below* the current selected cell.\n",
    "- Press `dd` (double d quickly) while in *select-mode* to delete the currently selected cell.\n",
    "- `z` while in *select-mode* to undo an action applied over the current selected cell.\n",
    "- `SHIFT + ENTER` to run the content of a cell. "
   ]
  },
  {
   "cell_type": "markdown",
   "metadata": {},
   "source": [
    "<a id=\"1.2\"></a>\n",
    "## B. Colored Block Notes\n",
    "\n",
    "Alert/Warning Blocks\n",
    "<div class=\"alert alert-block alert-warning\">\n",
    "<b>Example:</b> Use yellow boxes for examples that are not  inside code cells, or use for mathematical formulas if needed.\n",
    "</div>\n",
    "\n",
    "Info Blocks\n",
    "<div class=\"alert alert-block alert-info\"> <b>Tip:</b> Use blue boxes (alert-info) for tips and notes.  If it’s a note, you don’t have to include the word “Note”. </div>\n",
    "\n",
    "Succes Blocks\n",
    "<div class=\"alert alert-block alert-success\">\n",
    "<b>Up to you:</b> Use green boxes sparingly, and only for some specific  purpose that the other boxes can't cover. For example, if you have a lot  of related content to link to, maybe you decide to use green boxes for  related links from each section of a notebook.\n",
    "</div>\n",
    "\n",
    "Danger Blocks\n",
    "<div class=\"alert alert-block alert-danger\"> \n",
    "<b>Just don't:</b> In general, avoid the red boxes. These should only be used for actions that might cause data loss or another major issue.\n",
    "</div>\n"
   ]
  },
  {
   "cell_type": "markdown",
   "metadata": {
    "tags": []
   },
   "source": [
    "## C. Basic Markdown\n",
    "Jupyter notebooks use markdown syntax to format the text. You can learn more [here](https://www.markdownguide.org/cheat-sheet) and [here](https://www.ibm.com/docs/en/watson-studio-local/1.2.3?topic=notebooks-markdown-jupyter-cheatsheet)."
   ]
  },
  {
   "cell_type": "markdown",
   "metadata": {
    "tags": []
   },
   "source": [
    "### Bullet Lists"
   ]
  },
  {
   "cell_type": "markdown",
   "metadata": {
    "jp-MarkdownHeadingCollapsed": true,
    "tags": []
   },
   "source": [
    "**Markdown code**\n",
    "```markdown\n",
    "- Item 1\n",
    "- Item 2\n",
    "    - Item 2.1\n",
    "        - Item 2.1.1\n",
    "    - Item 2.2\n",
    "- Item 3\n",
    "```\n",
    "\n",
    "**Output**\n",
    "- Item 1\n",
    "- Item 2\n",
    "    - Item 2.1\n",
    "        - Item 2.1.1\n",
    "    - Item 2.2\n",
    "- Item 3"
   ]
  },
  {
   "cell_type": "markdown",
   "metadata": {},
   "source": [
    "### Ordered lists"
   ]
  },
  {
   "cell_type": "markdown",
   "metadata": {},
   "source": [
    "**Markdown code**\n",
    "```markdown\n",
    "1. Item 1\n",
    "1. Item 2\n",
    "    1. Item 2.1\n",
    "        1. Item 2.1.1\n",
    "    1. Item 2.2\n",
    "1. Item 3\n",
    "```\n",
    "**Output**\n",
    "1. Item 1\n",
    "1. Item 2\n",
    "    1. Item 2.1\n",
    "        1. Item 2.1.1\n",
    "    1. Item 2.2\n",
    "1. Item 3"
   ]
  },
  {
   "cell_type": "markdown",
   "metadata": {},
   "source": [
    "### Line breaker\n",
    "Markdown code:\n",
    "```\n",
    "The text before the line breaker <br> and the text after are splited into 2 diferent rows!\n",
    "```\n",
    "\n",
    "Output: <br>\n",
    "The text before the line breaker <br> and the text after are spliten into 2 diferent rows!"
   ]
  },
  {
   "cell_type": "markdown",
   "metadata": {},
   "source": [
    "### Emphasis - Bold and Italics\n",
    "Markdown code:\n",
    "```markdown\n",
    "Bold: **option 1** and __option 2__\n",
    "Italics: *option 1* and _option 2_\n",
    "Italics Bold: ***option 1*** and ___option 2___\n",
    "```\n",
    "\n",
    "Output:\n",
    "- Bold: **option 1** and __option 2__\n",
    "- Italics: *option 1* and _option 2_\n",
    "- Italics Bold: ***option 1*** and ___option 2___"
   ]
  },
  {
   "cell_type": "markdown",
   "metadata": {},
   "source": [
    "### Math symbols -- LaTeX\n",
    "Markdown code\n",
    "```markdown\n",
    "Inline latex: $LaTeX x^2 \\infty$\n",
    "\n",
    "Block equation:\n",
    "$$ F(x) = \\int_a^b f(x) dx$$\n",
    "```\n",
    "\n",
    "**Output**:<br>\n",
    "\n",
    "Inline latex: $LaTeX\\ x^2\\ \\infty$ <br>\n",
    "Block equation:\n",
    "$$ F(a) - F(b) = \\int_a^b f(x) dx$$"
   ]
  },
  {
   "cell_type": "markdown",
   "metadata": {},
   "source": [
    "### Inline code"
   ]
  },
  {
   "cell_type": "markdown",
   "metadata": {},
   "source": [
    "Markdows code:\n",
    "```\n",
    "`Inline code must go inside backticks`\n",
    "```\n",
    "\n",
    "**Output**:\n",
    "`Inline code must inside single backticks`"
   ]
  },
  {
   "cell_type": "markdown",
   "metadata": {},
   "source": [
    "### Block of code"
   ]
  },
  {
   "cell_type": "markdown",
   "metadata": {},
   "source": [
    "A block of code must go inside triple backticks<br>\n",
    "\n",
    "**Example**:\n",
    "```python\n",
    "# This is python code\n",
    "print(\"Hola mundo\")\n",
    "# this is a loop in python\n",
    "for i in range(5):\n",
    "    print(i)\n",
    "```"
   ]
  },
  {
   "cell_type": "markdown",
   "metadata": {},
   "source": [
    "### Font color\n",
    "Markdown code:\n",
    "```\n",
    "<font color = yellow>\n",
    "This is text in yellow color!\n",
    "Yellow!\n",
    "```\n",
    "\n",
    "**Output** <br>\n",
    "<font color = yellow>\n",
    "This is text in yellow color!\n",
    "Yellow!"
   ]
  },
  {
   "cell_type": "markdown",
   "metadata": {},
   "source": [
    "<a id=\"2\"></a>\n",
    "# 2. Basic Python and how it works in a Notebook\n",
    "This is a very basic reminder rather than a proper introduction, and the purpose is to show how python works in jupyter notebook. Here I am asumming you know the basic of python."
   ]
  },
  {
   "cell_type": "markdown",
   "metadata": {},
   "source": [
    "### Python is calculator"
   ]
  },
  {
   "cell_type": "code",
   "execution_count": 5,
   "metadata": {},
   "outputs": [],
   "source": [
    "x = 5\n",
    "y = 2"
   ]
  },
  {
   "cell_type": "code",
   "execution_count": 7,
   "metadata": {},
   "outputs": [
    {
     "data": {
      "text/plain": [
       "7"
      ]
     },
     "execution_count": 7,
     "metadata": {},
     "output_type": "execute_result"
    }
   ],
   "source": [
    "addition = x + y\n",
    "addition"
   ]
  },
  {
   "cell_type": "code",
   "execution_count": 8,
   "metadata": {},
   "outputs": [
    {
     "data": {
      "text/plain": [
       "10"
      ]
     },
     "execution_count": 8,
     "metadata": {},
     "output_type": "execute_result"
    }
   ],
   "source": [
    "product = x * y\n",
    "product"
   ]
  },
  {
   "cell_type": "code",
   "execution_count": 9,
   "metadata": {},
   "outputs": [
    {
     "data": {
      "text/plain": [
       "3"
      ]
     },
     "execution_count": 9,
     "metadata": {},
     "output_type": "execute_result"
    }
   ],
   "source": [
    "substraction = x - y\n",
    "substraction"
   ]
  },
  {
   "cell_type": "code",
   "execution_count": 10,
   "metadata": {},
   "outputs": [
    {
     "data": {
      "text/plain": [
       "25"
      ]
     },
     "execution_count": 10,
     "metadata": {},
     "output_type": "execute_result"
    }
   ],
   "source": [
    "power = x ** y\n",
    "power"
   ]
  },
  {
   "cell_type": "code",
   "execution_count": 11,
   "metadata": {},
   "outputs": [
    {
     "data": {
      "text/plain": [
       "1"
      ]
     },
     "execution_count": 11,
     "metadata": {},
     "output_type": "execute_result"
    }
   ],
   "source": [
    "module = x % y\n",
    "module"
   ]
  },
  {
   "cell_type": "markdown",
   "metadata": {},
   "source": [
    "### Python lists"
   ]
  },
  {
   "cell_type": "code",
   "execution_count": 29,
   "metadata": {},
   "outputs": [
    {
     "data": {
      "text/plain": [
       "[]"
      ]
     },
     "execution_count": 29,
     "metadata": {},
     "output_type": "execute_result"
    }
   ],
   "source": [
    "# This is an empty list\n",
    "empty_list = list()\n",
    "empty_list"
   ]
  },
  {
   "cell_type": "code",
   "execution_count": 30,
   "metadata": {},
   "outputs": [
    {
     "data": {
      "text/plain": [
       "[7, 10, 3, 25, 1]"
      ]
     },
     "execution_count": 30,
     "metadata": {},
     "output_type": "execute_result"
    }
   ],
   "source": [
    "# this is a list with all the operations as their individual items\n",
    "operations_list = [addition, product, substraction, power, module]\n",
    "operations_list"
   ]
  },
  {
   "cell_type": "code",
   "execution_count": 31,
   "metadata": {},
   "outputs": [
    {
     "data": {
      "text/plain": [
       "[7, 10, 3, 25, 1, 'not a number, but a string']"
      ]
     },
     "execution_count": 31,
     "metadata": {},
     "output_type": "execute_result"
    }
   ],
   "source": [
    "# You can append more elements into a list (not necessary need to be the same type that the other elements)\n",
    "operations_list.append(\"not a number, but a string\")\n",
    "operations_list"
   ]
  },
  {
   "cell_type": "code",
   "execution_count": 32,
   "metadata": {},
   "outputs": [
    {
     "data": {
      "text/plain": [
       "[10, 3, 25, 1, 'not a number, but a string']"
      ]
     },
     "execution_count": 32,
     "metadata": {},
     "output_type": "execute_result"
    }
   ],
   "source": [
    "# And you can remove elements using pop(index) where index is the position of the element to remove\n",
    "operations_list.pop(0)\n",
    "operations_list"
   ]
  },
  {
   "cell_type": "code",
   "execution_count": 33,
   "metadata": {},
   "outputs": [
    {
     "data": {
      "text/plain": [
       "[10, 3, 25, 1, 'not a number, but a string', [1, 2, 'three']]"
      ]
     },
     "execution_count": 33,
     "metadata": {},
     "output_type": "execute_result"
    }
   ],
   "source": [
    "# You can even append lists into another list\n",
    "operations_list.append([1, 2, \"three\"])\n",
    "operations_list"
   ]
  },
  {
   "cell_type": "code",
   "execution_count": 34,
   "metadata": {},
   "outputs": [
    {
     "data": {
      "text/plain": [
       "[1, 2, 'three']"
      ]
     },
     "execution_count": 34,
     "metadata": {},
     "output_type": "execute_result"
    }
   ],
   "source": [
    "# To acces to a specific item into a list, use its index\n",
    "operations_list[5]"
   ]
  },
  {
   "cell_type": "markdown",
   "metadata": {},
   "source": [
    "### Python tuples"
   ]
  },
  {
   "cell_type": "code",
   "execution_count": 35,
   "metadata": {},
   "outputs": [
    {
     "data": {
      "text/plain": [
       "()"
      ]
     },
     "execution_count": 35,
     "metadata": {},
     "output_type": "execute_result"
    }
   ],
   "source": [
    "# Empty tuple\n",
    "empty_tuple = ()\n",
    "empty_tuple"
   ]
  },
  {
   "cell_type": "code",
   "execution_count": 36,
   "metadata": {},
   "outputs": [
    {
     "data": {
      "text/plain": [
       "(7, 10, 3, 25, 1)"
      ]
     },
     "execution_count": 36,
     "metadata": {},
     "output_type": "execute_result"
    }
   ],
   "source": [
    "# This is a tuple, the difference with the lists is tuples are inmutable (cannot be changed)\n",
    "operations_tuples = (addition, product, substraction, power, module)\n",
    "operations_tuples"
   ]
  },
  {
   "cell_type": "code",
   "execution_count": 37,
   "metadata": {},
   "outputs": [
    {
     "data": {
      "text/plain": [
       "10"
      ]
     },
     "execution_count": 37,
     "metadata": {},
     "output_type": "execute_result"
    }
   ],
   "source": [
    "# To access to an element within a tuple, the process is the sames as with lists\n",
    "operations_tuples[1]"
   ]
  },
  {
   "cell_type": "markdown",
   "metadata": {},
   "source": [
    "### Python dictionaries\n",
    "- Python dictionaires are mutable but not ordered (after python 10 they are actually ordered)."
   ]
  },
  {
   "cell_type": "code",
   "execution_count": 38,
   "metadata": {},
   "outputs": [
    {
     "data": {
      "text/plain": [
       "{}"
      ]
     },
     "execution_count": 38,
     "metadata": {},
     "output_type": "execute_result"
    }
   ],
   "source": [
    "# Empty dictionary\n",
    "empty_dict = dict()\n",
    "empty_dict"
   ]
  },
  {
   "cell_type": "code",
   "execution_count": 39,
   "metadata": {},
   "outputs": [
    {
     "data": {
      "text/plain": [
       "{'addition': 7, 'product': 10, 'substraction': 3, 'power': 25, 'module': 1}"
      ]
     },
     "execution_count": 39,
     "metadata": {},
     "output_type": "execute_result"
    }
   ],
   "source": [
    "# Dictioary with the operations.\n",
    "operations_dict = {\"addition\": addition, \"product\":product, \"substraction\":substraction, \"power\":power, \"module\":module}\n",
    "operations_dict"
   ]
  },
  {
   "cell_type": "code",
   "execution_count": 40,
   "metadata": {},
   "outputs": [
    {
     "data": {
      "text/plain": [
       "3"
      ]
     },
     "execution_count": 40,
     "metadata": {},
     "output_type": "execute_result"
    }
   ],
   "source": [
    "# To get an element of a dictionary, you need to use the associated key\n",
    "operations_dict[\"substraction\"]"
   ]
  }
 ],
 "metadata": {
  "kernelspec": {
   "display_name": "sci-venv",
   "language": "python",
   "name": "sci-venv"
  },
  "language_info": {
   "codemirror_mode": {
    "name": "ipython",
    "version": 3
   },
   "file_extension": ".py",
   "mimetype": "text/x-python",
   "name": "python",
   "nbconvert_exporter": "python",
   "pygments_lexer": "ipython3",
   "version": "3.10.6"
  }
 },
 "nbformat": 4,
 "nbformat_minor": 4
}
