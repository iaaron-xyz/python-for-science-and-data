{
 "cells": [
  {
   "cell_type": "markdown",
   "metadata": {},
   "source": [
    "# Quick Introduction to Jupyter Notebooks and Basic Python\n",
    "\n",
    "## Table of contents\n",
    "1. [Basic Jupyter notebooks](#1)\n",
    "    1. [Jupyter Notebooks Basic Commands](#1.1)\n",
    "    2. [Colored Block Notes](#1.2)\n",
    "1. [Basic Python and How it works in a Notebook](#2)\n",
    "3. [References](#3)"
   ]
  },
  {
   "cell_type": "markdown",
   "metadata": {},
   "source": [
    "<a id=\"1\"></a>\n",
    "# Basic Jupyter Notebooks\n",
    "\n",
    "<a id=\"1.1\"></a>\n",
    "## A. Jupyter Notebooks Basic Commands\n",
    "\n",
    "- `ESC` to exit the content-edit-mode of a cell and enter the edit-cell mode.\n",
    "- `ENTER` to enter the content-edit-mode and edit the content of the selected cell.\n",
    "- Press the `a` key to create a cell *above* the current cell.\n",
    "- Press the `b` key to create a cell *below* the current cell.\n",
    "- Press `dd` (double d quickly) to delete the cell when in `edit-cell` mode.\n",
    "- `z` to undo an action in ecit-cell mode.\n",
    "- `SHIFT + ENTER` to run the content of a cell. "
   ]
  },
  {
   "cell_type": "markdown",
   "metadata": {},
   "source": [
    "## B. How the index works"
   ]
  },
  {
   "cell_type": "markdown",
   "metadata": {},
   "source": [
    "<a id=\"1.2\"></a>\n",
    "## C. Colored Block Notes\n",
    "\n",
    "Alert/Warning Blocks\n",
    "<div class=\"alert alert-block alert-warning\">\n",
    "<b>Example:</b> Use yellow boxes for examples that are not  inside code cells, or use for mathematical formulas if needed.\n",
    "</div>\n",
    "\n",
    "Info Blocks\n",
    "<div class=\"alert alert-block alert-info\"> <b>Tip:</b> Use blue boxes (alert-info) for tips and notes.  If it’s a note, you don’t have to include the word “Note”. </div>\n",
    "\n",
    "Succes Blocks\n",
    "<div class=\"alert alert-block alert-success\">\n",
    "<b>Up to you:</b> Use green boxes sparingly, and only for some specific  purpose that the other boxes can't cover. For example, if you have a lot  of related content to link to, maybe you decide to use green boxes for  related links from each section of a notebook.\n",
    "</div>\n",
    "\n",
    "Danger Blocks\n",
    "<div class=\"alert alert-block alert-danger\"> \n",
    "<b>Just don't:</b> In general, avoid the red boxes. These should only be used for actions that might cause data loss or another major issue.\n",
    "</div>\n"
   ]
  },
  {
   "cell_type": "markdown",
   "metadata": {
    "tags": []
   },
   "source": [
    "## D. Basic Markdown\n",
    "Jupyter notebooks use markdown syntax to format the text."
   ]
  },
  {
   "cell_type": "markdown",
   "metadata": {
    "tags": []
   },
   "source": [
    "### Bullet Lists"
   ]
  },
  {
   "cell_type": "markdown",
   "metadata": {
    "jp-MarkdownHeadingCollapsed": true,
    "tags": []
   },
   "source": [
    "**Markdown code**\n",
    "```markdown\n",
    "- Item 1\n",
    "- Item 2\n",
    "    - Item 2.1\n",
    "        - Item 2.1.1\n",
    "    - Item 2.2\n",
    "- Item 3\n",
    "```\n",
    "\n",
    "**Output**\n",
    "- Item 1\n",
    "- Item 2\n",
    "    - Item 2.1\n",
    "        - Item 2.1.1\n",
    "    - Item 2.2\n",
    "- Item 3"
   ]
  },
  {
   "cell_type": "markdown",
   "metadata": {},
   "source": [
    "### Ordered lists"
   ]
  },
  {
   "cell_type": "markdown",
   "metadata": {},
   "source": [
    "**Markdown code**\n",
    "```markdown\n",
    "1. Item 1\n",
    "1. Item 2\n",
    "    1. Item 2.1\n",
    "        1. Item 2.1.1\n",
    "    1. Item 2.2\n",
    "1. Item 3\n",
    "```\n",
    "**Output**\n",
    "1. Item 1\n",
    "1. Item 2\n",
    "    1. Item 2.1\n",
    "        1. Item 2.1.1\n",
    "    1. Item 2.2\n",
    "1. Item 3"
   ]
  },
  {
   "cell_type": "markdown",
   "metadata": {},
   "source": [
    "### Emphasis - Bold and Italics\n",
    "Markdown code:\n",
    "```markdown\n",
    "Bold: **option 1** and __option 2__\n",
    "Italics: *option 1* and _option 2_\n",
    "Italics Bold: ***option 1*** and ___option 2___\n",
    "```\n",
    "\n",
    "Output:\n",
    "- Bold: **option 1** and __option 2__\n",
    "- Italics: *option 1* and _option 2_\n",
    "- Italics Bold: ***option 1*** and ___option 2___"
   ]
  },
  {
   "cell_type": "markdown",
   "metadata": {},
   "source": [
    "### Math symbols -- LaTeX\n",
    "Markdown code\n",
    "```markdown\n",
    "Inline latex: $LaTeX x^2 \\infty$\n",
    "\n",
    "Block equation:\n",
    "$$ F(x) = \\int_a^b f(x) dx$$\n",
    "```\n",
    "\n",
    "Output: <br>\n",
    "Inline latex: $LaTeX x^2 \\infty$\n",
    "Block equation:\n",
    "$$ F(a) - F(b) = \\int_a^b f(x) dx$$"
   ]
  },
  {
   "cell_type": "markdown",
   "metadata": {},
   "source": [
    "<a id=\"2\"></a>\n",
    "# Basic Python and how it works in a Notebook"
   ]
  },
  {
   "cell_type": "markdown",
   "metadata": {},
   "source": [
    "<a id=\"3\"></a>\n",
    "# References\n",
    "- https://medium.com/@ahmetekiz/creating-table-of-contents-in-jupyter-notebook-52a7c696817f"
   ]
  },
  {
   "cell_type": "code",
   "execution_count": null,
   "metadata": {},
   "outputs": [],
   "source": []
  }
 ],
 "metadata": {
  "kernelspec": {
   "display_name": "sci-venv",
   "language": "python",
   "name": "sci-venv"
  },
  "language_info": {
   "codemirror_mode": {
    "name": "ipython",
    "version": 3
   },
   "file_extension": ".py",
   "mimetype": "text/x-python",
   "name": "python",
   "nbconvert_exporter": "python",
   "pygments_lexer": "ipython3",
   "version": "3.10.4"
  }
 },
 "nbformat": 4,
 "nbformat_minor": 4
}
